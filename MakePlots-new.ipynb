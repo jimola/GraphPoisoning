{
 "cells": [
  {
   "cell_type": "code",
   "execution_count": 1,
   "id": "06ea7ab5",
   "metadata": {},
   "outputs": [],
   "source": [
    "import numpy as np\n",
    "import networkx as nx\n",
    "import experiments\n",
    "import pandas as pd\n",
    "import matplotlib.pyplot as plt\n",
    "import matplotlib\n",
    "import copy\n",
    "from mpl_toolkits.axes_grid1 import Divider, Size\n",
    "matplotlib.rcParams['figure.figsize'] = (4.0,4.0)\n",
    "matplotlib.rcParams['font.family'] = ['serif']\n",
    "matplotlib.rcParams['text.usetex'] = True\n",
    "matplotlib.rcParams['font.size'] = 17.0\n",
    "path = 'plots_new/'"
   ]
  },
  {
   "cell_type": "markdown",
   "id": "4841ef44-b85a-4944-a92d-c70872530c70",
   "metadata": {},
   "source": [
    "# Evaluating success rates of different attacks"
   ]
  },
  {
   "cell_type": "markdown",
   "id": "aa427226-a18c-4931-bd2d-90449da191ab",
   "metadata": {},
   "source": [
    "Loading the FB dataset"
   ]
  },
  {
   "cell_type": "code",
   "execution_count": 2,
   "id": "7e3a4364",
   "metadata": {},
   "outputs": [],
   "source": [
    "graph_test = experiments.GNPGraph(30, 0.5)"
   ]
  },
  {
   "cell_type": "code",
   "execution_count": 3,
   "id": "08e24994",
   "metadata": {},
   "outputs": [],
   "source": [
    "CB_color_cycle = ['#377eb8', '#ff7f00', '#4daf4a',\n",
    "                  '#f781bf', '#a65628', '#984ea3',\n",
    "                  '#999999', '#e41a1c', '#dede00']"
   ]
  },
  {
   "cell_type": "code",
   "execution_count": 4,
   "id": "de30e007",
   "metadata": {},
   "outputs": [],
   "source": [
    "comms = nx.community.greedy_modularity_communities(G)"
   ]
  },
  {
   "cell_type": "markdown",
   "id": "25344e5c-c078-407a-8d6e-eec8014df4e2",
   "metadata": {},
   "source": [
    "Defining the attacks types to be used"
   ]
  },
  {
   "cell_type": "code",
   "execution_count": 5,
   "id": "141c1027",
   "metadata": {},
   "outputs": [],
   "source": [
    "attack_names = ['Inf 1 Rand', 'Def 1 Rand', 'Inf 1 Friend', 'Def 1 Friend', \n",
    "               'Inf 5 Rand', 'Inf 20 Rand', 'Def 5 Comm', 'Def 20 Comm', \n",
    "               'Inf+Def 5 Comm', 'Inf+Def 20 Comm', '2 Inf 5 Comm', '2 Def 5 Comm',\n",
    "                'Inf 5 Def 5 Comm', '2 Inf 20 Comm', '2 Def 20 Comm', 'Inf 20 Def 20 Comm',\n",
    "                'Def Big Comm']\n",
    "attack_names_short = {attack_names[d]: 'A%d' % d for d in range(0, len(attack_names))}\n",
    "def gen_attacks(n, n_mal, t1, t2, comm):\n",
    "    attacks = []\n",
    "    attacks.append( [[1, 0, n_mal-1, 'Random']])\n",
    "    attacks.append( [[0, 1, n_mal, 'Random']])\n",
    "    #an attack where no one is his friend\n",
    "    attacks.append( [[1, 0, n_mal-1, 'Friends']])\n",
    "    attacks.append( [[0, 1, n_mal, 'Friends']])\n",
    "    \n",
    "    #Try m = 1%, 5%, 10%, 15%, ..., 35%\n",
    "    attacks.append( [[t1, 0, n_mal-t1, 'Random']] )\n",
    "    attacks.append( [[t2, 0, n_mal-t2, 'Random']] )\n",
    "    attacks.append( [[0, t1, n_mal-t1, comm]] )\n",
    "    attacks.append( [[0, t2, n_mal-t2, comm]] )\n",
    "    \n",
    "    attacks.append( [[t1, t1, n_mal-t1, comm]] )\n",
    "    attacks.append( [[t2, t2, n_mal-t2, comm]] )\n",
    "    \n",
    "    attacks.append( [[t1, 0, n_mal//2-t1, comm], [t1, 0, n_mal//2-t1, comm]] )\n",
    "    attacks.append( [[0, t1, n_mal//2, comm], [0, t1, n_mal//2, comm]] )\n",
    "    attacks.append( [[t1, 0, n_mal//2-t1, comm], [0, t1, n_mal//2, comm]] )\n",
    "    attacks.append( [[t2, 0, n_mal//2-t2, comm], [t2, 0, n_mal//2-t2, comm]] )\n",
    "    attacks.append( [[0, t2, n_mal//2, comm], [0, t2, n_mal//2, comm]] )\n",
    "    attacks.append( [[t2, 0, n_mal//2-t2, comm], [0, t2, n_mal//2, comm]] )\n",
    "    \n",
    "    attacks.append( [[0, len(comm)-n_mal, n_mal, comm]] )\n",
    "    \n",
    "    return attacks"
   ]
  },
  {
   "cell_type": "code",
   "execution_count": 6,
   "id": "18b24da7",
   "metadata": {},
   "outputs": [],
   "source": [
    "def collect_data(attacks, attack_names, g, g_name, max_adv, epsilon, thresh_values, attack_values, reps):\n",
    "    #labels = ['RR+Laplace, Response', 'RR+Laplace, Input', 'RR, Response', 'RR, Input', 'Naive, Response', 'Naive, Input']\n",
    "    labels = ['RR+Laplace, Response', 'RR, Response', 'Naive, Response']\n",
    "    E = [experiments.ResponseLaplaceManipulation(g, max_adv, epsilon, 1e-6, 0.1, [0.7, 0.5], [0.8, 0.5, 0.3]), \n",
    "         #experiments.InputLaplaceManipulation(g, max_adv, epsilon, 1e-6, 0.1, [0.7, 0.5], [0.8, 0.5, 0.3]),\n",
    "         experiments.ResponseRRManipulation(g, max_adv, epsilon, 1e-6, [0.7], [0.8, 0.5]),\n",
    "         #experiments.InputRRManipulation(g, max_adv, epsilon, 1e-6, [0.7], [0.8, 0.5]),\n",
    "         experiments.ResponseRRNaiveManipulation(g, max_adv, epsilon, 1e-6, [0.7], [0.8, 0.5])\n",
    "         #experiments.InputRRNaiveManipulation(g, max_adv, epsilon, 1e-6, [0.7], [0.8, 0.5])\n",
    "        ]\n",
    "    \n",
    "    data = []\n",
    "    for x in range(0, reps):\n",
    "        for av in attack_values.keys():\n",
    "            for a_i in range(0, len(attacks)):\n",
    "                A = copy.deepcopy(attacks[a_i])\n",
    "                #if av == 'strong':\n",
    "                #    for a in A:\n",
    "                #        a[1] *= 3\n",
    "                for i in range(0, len(E)):\n",
    "                    E[i].reset_attacks()\n",
    "                E[0].add_attacks(A)\n",
    "                for i in range(1, len(E)):\n",
    "                    E[i].set_attacks_like(E[0])\n",
    "                for tv in thresh_values.keys():\n",
    "                    for i in range(0, len(E)):\n",
    "                        if 'Naive' in labels[i]:\n",
    "                            E[i].inflation_factors = (1.0,)\n",
    "                        else:\n",
    "                            E[i].inflation_factors = attack_values[av]   \n",
    "                        E[i].threshold_reduction = thresh_values[tv]\n",
    "                        d = E[i].get_results(False)\n",
    "                        h = {'Protocol': labels[i], 'Attack': attack_names[a_i], 'Attack Strength': av, 'Threshold Strength': tv, 'Eps': epsilon, 'Graph': g_name,\n",
    "                            'Mal Max Error': d[0][0], 'Mal L2 Error': d[0][1], 'Mal Mean Error': d[0][2], 'Mal T Nan': d[1][0], 'Mal T Tot': d[1][1], 'Mal Nan': d[2],\n",
    "                            'Hon T Max Error': d[3][0], 'Hon T L2 Error': d[3][1], 'Hon T Mean Error': d[3][2], 'Hon T Nan': d[4][0], 'Hon T Tot': d[4][1],\n",
    "                            'Rest Max Error': d[5][0], 'Rest L2 Error': d[5][1], 'Rest Mean Error': d[5][2], 'Rest Nan': d[6][0], 'Rest Tot': d[6][1], 'l1norm': d[7]\n",
    "                        }\n",
    "                        data.append(h)\n",
    "    return data"
   ]
  },
  {
   "cell_type": "markdown",
   "id": "19536362-53e9-4528-95b2-ee87f2bebf29",
   "metadata": {},
   "source": [
    "Parameters used for the protocols and attacks. We determined these values empirically, at the \"sweet spot\" where no honest users are flagged, and malicious users are sometimes flagged."
   ]
  },
  {
   "cell_type": "code",
   "execution_count": 7,
   "id": "242af26f",
   "metadata": {},
   "outputs": [],
   "source": [
    "thresh_values = {'med': (0.9, 0.5, 0.5)}\n",
    "attack_values = {'strong': (0.17, 0.17)}"
   ]
  },
  {
   "cell_type": "code",
   "execution_count": 8,
   "id": "13dc5c9c",
   "metadata": {},
   "outputs": [],
   "source": [
    "atx = gen_attacks(g, 40, 6, 10, list(comms[1]))"
   ]
  },
  {
   "cell_type": "markdown",
   "id": "f6727383-819b-4601-96c9-838c35573a8d",
   "metadata": {},
   "source": [
    "## Collecting and analyzing attack data for FB graph"
   ]
  },
  {
   "cell_type": "code",
   "execution_count": 9,
   "id": "98e030a6",
   "metadata": {
    "scrolled": true
   },
   "outputs": [],
   "source": [
    "#df = collect_data(atx, attack_names, g, 'FB', 40, 0.7, thresh_values, attack_values, 20)"
   ]
  },
  {
   "cell_type": "code",
   "execution_count": 10,
   "id": "db359597",
   "metadata": {},
   "outputs": [],
   "source": [
    "import pickle\n",
    "#pickle.dump(df, open('df1.pkl', 'wb'))\n",
    "df = pickle.load(open('df1.pkl', 'rb'))"
   ]
  },
  {
   "cell_type": "code",
   "execution_count": 11,
   "id": "cd28b3b5",
   "metadata": {},
   "outputs": [],
   "source": [
    "D = pd.DataFrame(df).drop('Graph', axis=1)"
   ]
  },
  {
   "cell_type": "code",
   "execution_count": 12,
   "id": "149cb7c1",
   "metadata": {},
   "outputs": [],
   "source": [
    "dat = D.groupby(['Protocol', 'Threshold Strength', 'Attack', 'Attack Strength']).mean()"
   ]
  },
  {
   "cell_type": "code",
   "execution_count": 13,
   "id": "1c1eb49e",
   "metadata": {},
   "outputs": [],
   "source": [
    "#lab = dat.index.get_level_values('Protocol').unique()\n",
    "lab = ['Naive, Response', 'RR, Response', 'RR+Laplace, Response']\n",
    "attack = dat.index.get_level_values('Attack').unique()\n",
    "attack_strength = dat.index.get_level_values('Attack Strength').unique()"
   ]
  },
  {
   "cell_type": "code",
   "execution_count": 14,
   "id": "84b5e324",
   "metadata": {},
   "outputs": [],
   "source": [
    "inf_attack = [a for a in attack if 'Inf' in a]\n",
    "def_attack = [a for a in attack if 'Def' in a]\n",
    "best_inf_attacks = []\n",
    "best_def_attacks = []\n",
    "best_attacks = []"
   ]
  },
  {
   "cell_type": "code",
   "execution_count": 15,
   "id": "fc3fdf1f",
   "metadata": {},
   "outputs": [
    {
     "name": "stdout",
     "output_type": "stream",
     "text": [
      "plots_new/fb_inf_strong.pdf\n",
      "plots_new/fb_def_strong.pdf\n",
      "plots_new/fb_tot_strong.pdf\n"
     ]
    },
    {
     "data": {
      "image/png": "[encoded data removed]",
      "text/plain": [
       "<Figure size 400x400 with 1 Axes>"
      ]
     },
     "metadata": {},
     "output_type": "display_data"
    },
    {
     "data": {
      "image/png": "[encoded data removed]",
      "text/plain": [
       "<Figure size 400x400 with 1 Axes>"
      ]
     },
     "metadata": {},
     "output_type": "display_data"
    },
    {
     "data": {
      "image/png": "[encoded data removed]",
      "text/plain": [
       "<Figure size 400x400 with 1 Axes>"
      ]
     },
     "metadata": {},
     "output_type": "display_data"
    }
   ],
   "source": [
    "\n",
    "def plot_data(dat, attacks, s, err, y_lab, name, num_mal, log=False):\n",
    "    fig, ax = plt.subplots()\n",
    "    graph_data = []\n",
    "    for a in attacks:\n",
    "        pts = []\n",
    "        for p in lab:\n",
    "            if err == 'rob':\n",
    "                pts.append(dat.loc[p, 'med', a, s]['Mal Max Error'])\n",
    "            elif err == 'acc':\n",
    "                pts.append(dat.loc[p, 'med', a, s]['Hon T Max Error'])\n",
    "            elif err == 'total':\n",
    "                pts.append(dat.loc[p, 'med', a, s]['l1norm'])\n",
    "                #pts.append(np.sqrt(dat.loc[p, 'med', a, s]['Hon T L2 Error'] ** 2 + dat.loc[p, 'med', a, s]['Mal L2 Error'] ** 2))\n",
    "                #pts.append( dat.loc[p, 'med', a, s]['Hon T L2 Error'] + dat.loc[p, 'med', a, s]['Mal L2 Error'] )\n",
    "        #ax.plot(pts, color=c, alpha=0.5)\n",
    "        graph_data.append([a] + pts)\n",
    "    PD = pd.DataFrame(graph_data).set_index(0)\n",
    "    bplot = ax.boxplot(PD, tick_labels=['SimpleRR', 'RRCheck', 'Hybrid'], whis=(0,100))\n",
    "    for box, color in zip(bplot['boxes'], CB_color_cycle[0:3]):\n",
    "        box_x = []\n",
    "        box_y = []\n",
    "        for j in range(5):\n",
    "            box_x.append(box.get_xdata()[j])\n",
    "            box_y.append(box.get_ydata()[j])\n",
    "        box_coords = np.column_stack([box_x, box_y])\n",
    "        ax.add_patch(matplotlib.patches.Polygon(box_coords, facecolor=color))\n",
    "    for med in bplot['medians']:\n",
    "        med.set_color('k')\n",
    "    PD['metric 1'] = (PD[2] + PD[3]) / 2\n",
    "    PD = PD.sort_values('metric 1')\n",
    "    worst_attacks = list(PD.iloc[-2:, :].index)\n",
    "    plt.plot([1,2,3], PD.loc[worst_attacks[-1], [1,2,3]], c='k')\n",
    "    ax.set_ylabel(y_lab)\n",
    "    if log:\n",
    "        ax.set_yscale('log')\n",
    "    #ax.set_ylim([1, 5*4000])\n",
    "    ax.set_title('$\\\\epsilon=%0.2f, m=%d$' % (dat['Eps'].mean(), num_mal))\n",
    "    if isinstance(name, str):\n",
    "        print(name)\n",
    "        plt.savefig(name, bbox_inches = \"tight\")\n",
    "    return worst_attacks\n",
    "\n",
    "best_inf_attacks += plot_data(dat, inf_attack, 'strong', 'rob', 'Malicious Error ($\\\\alpha_2$)', path + 'fb_inf_strong.pdf', 40, True)\n",
    "best_def_attacks += plot_data(dat, def_attack, 'strong', 'acc', 'Honest Error ($\\\\alpha_1$)', path + 'fb_def_strong.pdf', 40, False)\n",
    "best_attacks += plot_data(dat, attack, 'strong', 'total', '$\\\\ell_1$ Error', path + 'fb_tot_strong.pdf', 40, True)"
   ]
  },
  {
   "cell_type": "markdown",
   "id": "60e8f9bd-6d8c-4964-96c8-981b4569e586",
   "metadata": {},
   "source": [
    "### Some particular ratios used in the paper"
   ]
  },
  {
   "cell_type": "code",
   "execution_count": 16,
   "id": "d90963e7",
   "metadata": {},
   "outputs": [
    {
     "name": "stdout",
     "output_type": "stream",
     "text": [
      "9.650850941519806\n",
      "13.838094405248421\n"
     ]
    }
   ],
   "source": [
    "print( dat.loc['Naive, Response', :, :, :]['Mal Max Error'].max() / dat.loc['RR+Laplace, Response', :, :, :]['Mal Max Error'].max() )\n",
    "print( dat.loc['Naive, Response', :, :, :]['Mal Max Error'].max() / dat.loc['RR, Response', :, :, :]['Mal Max Error'].max() )"
   ]
  },
  {
   "cell_type": "code",
   "execution_count": 17,
   "id": "c36b0564",
   "metadata": {},
   "outputs": [
    {
     "name": "stdout",
     "output_type": "stream",
     "text": [
      "15.454535522693034\n",
      "9.871882062078093\n"
     ]
    }
   ],
   "source": [
    "print( dat.loc['Naive, Response', :, :, :]['Hon T Max Error'].max() / dat.loc['RR+Laplace, Response', :, :, :]['Hon T Max Error'].max() )\n",
    "print( dat.loc['RR, Response', :, :, :]['Hon T Max Error'].max() / dat.loc['RR+Laplace, Response', :, :, :]['Hon T Max Error'].max() )"
   ]
  },
  {
   "cell_type": "code",
   "execution_count": 18,
   "id": "611be352",
   "metadata": {
    "scrolled": true
   },
   "outputs": [
    {
     "data": {
      "text/html": [
       "<div>\n",
       "<style scoped>\n",
       "    .dataframe tbody tr th:only-of-type {\n",
       "        vertical-align: middle;\n",
       "    }\n",
       "\n",
       "    .dataframe tbody tr th {\n",
       "        vertical-align: top;\n",
       "    }\n",
       "\n",
       "    .dataframe thead th {\n",
       "        text-align: right;\n",
       "    }\n",
       "</style>\n",
       "<table border=\"1\" class=\"dataframe\">\n",
       "  <thead>\n",
       "    <tr style=\"text-align: right;\">\n",
       "      <th></th>\n",
       "      <th></th>\n",
       "      <th></th>\n",
       "      <th></th>\n",
       "      <th>Eps</th>\n",
       "      <th>Mal Max Error</th>\n",
       "      <th>Mal L2 Error</th>\n",
       "      <th>Mal Mean Error</th>\n",
       "      <th>Mal T Nan</th>\n",
       "      <th>Mal T Tot</th>\n",
       "      <th>Mal Nan</th>\n",
       "      <th>Hon T Max Error</th>\n",
       "      <th>Hon T L2 Error</th>\n",
       "      <th>Hon T Mean Error</th>\n",
       "      <th>Hon T Nan</th>\n",
       "      <th>Hon T Tot</th>\n",
       "      <th>Rest Max Error</th>\n",
       "      <th>Rest L2 Error</th>\n",
       "      <th>Rest Mean Error</th>\n",
       "      <th>Rest Nan</th>\n",
       "      <th>Rest Tot</th>\n",
       "      <th>l1norm</th>\n",
       "    </tr>\n",
       "    <tr>\n",
       "      <th>Protocol</th>\n",
       "      <th>Threshold Strength</th>\n",
       "      <th>Attack</th>\n",
       "      <th>Attack Strength</th>\n",
       "      <th></th>\n",
       "      <th></th>\n",
       "      <th></th>\n",
       "      <th></th>\n",
       "      <th></th>\n",
       "      <th></th>\n",
       "      <th></th>\n",
       "      <th></th>\n",
       "      <th></th>\n",
       "      <th></th>\n",
       "      <th></th>\n",
       "      <th></th>\n",
       "      <th></th>\n",
       "      <th></th>\n",
       "      <th></th>\n",
       "      <th></th>\n",
       "      <th></th>\n",
       "      <th></th>\n",
       "    </tr>\n",
       "  </thead>\n",
       "  <tbody>\n",
       "  </tbody>\n",
       "</table>\n",
       "</div>"
      ],
      "text/plain": [
       "Empty DataFrame\n",
       "Columns: [Eps, Mal Max Error, Mal L2 Error, Mal Mean Error, Mal T Nan, Mal T Tot, Mal Nan, Hon T Max Error, Hon T L2 Error, Hon T Mean Error, Hon T Nan, Hon T Tot, Rest Max Error, Rest L2 Error, Rest Mean Error, Rest Nan, Rest Tot, l1norm]\n",
       "Index: []"
      ]
     },
     "execution_count": 18,
     "metadata": {},
     "output_type": "execute_result"
    }
   ],
   "source": [
    "def get_honest_nans(dat):\n",
    "    return dat.iloc[ np.where(dat['Hon T Nan'] + dat['Rest Nan'] > 0)[0] ]\n",
    "get_honest_nans(dat)"
   ]
  },
  {
   "cell_type": "code",
   "execution_count": 19,
   "id": "c923cea4",
   "metadata": {},
   "outputs": [
    {
     "data": {
      "text/plain": [
       "['Def Big Comm', '2 Inf 20 Comm']"
      ]
     },
     "execution_count": 19,
     "metadata": {},
     "output_type": "execute_result"
    }
   ],
   "source": [
    "best_attacks"
   ]
  },
  {
   "cell_type": "code",
   "execution_count": 20,
   "id": "c6607d45",
   "metadata": {},
   "outputs": [
    {
     "data": {
      "text/plain": [
       "Protocol              Attack Strength\n",
       "Naive, Response       strong             0.000000\n",
       "RR+Laplace, Response  strong             0.621167\n",
       "RR, Response          strong             0.632250\n",
       "Name: PCT Disq, dtype: float64"
      ]
     },
     "execution_count": 20,
     "metadata": {},
     "output_type": "execute_result"
    }
   ],
   "source": [
    "#How many malicious users are being caught in both strong and weak attacks?\n",
    "def get_pct_disq(D):\n",
    "    X = D.copy()\n",
    "    X['PCT Disq'] = X['Mal T Nan'] / X['Mal T Tot']\n",
    "    return X[['Protocol', 'Attack Strength', 'PCT Disq']].groupby(['Protocol', 'Attack Strength']).mean()['PCT Disq']\n",
    "get_pct_disq(D)"
   ]
  },
  {
   "cell_type": "markdown",
   "id": "899be5a4-98fb-4838-ba66-86ffdae08cb6",
   "metadata": {},
   "source": [
    "## Collecting and analyzing attack data for Random graph"
   ]
  },
  {
   "cell_type": "code",
   "execution_count": 21,
   "id": "de81aa9d-ac7f-44cb-a4a4-57c1a8fd3a3f",
   "metadata": {},
   "outputs": [],
   "source": [
    "gnp = experiments.GNPGraph(4000, 0.5)\n",
    "comms_gnp = np.random.choice(range(0, 4000), 600, replace=False)"
   ]
  },
  {
   "cell_type": "code",
   "execution_count": 22,
   "id": "8fd37c8c-00a5-4bde-af24-c88ebfb4b616",
   "metadata": {},
   "outputs": [],
   "source": [
    "thresh_values = {'med': (0.9, 0.5, 0.5)}\n",
    "attack_values = {'strong': (0.17, 0.17)}\n",
    "atx_gnp = gen_attacks(gnp, 40, 6, 10, list(comms_gnp))"
   ]
  },
  {
   "cell_type": "code",
   "execution_count": 23,
   "id": "e63df90c",
   "metadata": {
    "scrolled": true
   },
   "outputs": [],
   "source": [
    "#df_gnp = collect_data(atx_gnp, attack_names, gnp, 'GNP', 40, 0.7, thresh_values, attack_values, 20)"
   ]
  },
  {
   "cell_type": "code",
   "execution_count": 24,
   "id": "a93d0419",
   "metadata": {},
   "outputs": [],
   "source": [
    "#pickle.dump(df_gnp, open('df3.pkl', 'wb'))\n",
    "df_gnp = pickle.load(open('df3.pkl', 'rb'))"
   ]
  },
  {
   "cell_type": "code",
   "execution_count": 25,
   "id": "8e691f0a",
   "metadata": {},
   "outputs": [],
   "source": [
    "dat_gnp = pd.DataFrame(df_gnp).drop('Graph', axis=1)"
   ]
  },
  {
   "cell_type": "code",
   "execution_count": 26,
   "id": "bf19854b",
   "metadata": {},
   "outputs": [],
   "source": [
    "dat_gnp = dat_gnp.groupby(['Protocol', 'Threshold Strength', 'Attack', 'Attack Strength']).mean()"
   ]
  },
  {
   "cell_type": "code",
   "execution_count": 27,
   "id": "a02f3d0f",
   "metadata": {},
   "outputs": [
    {
     "name": "stdout",
     "output_type": "stream",
     "text": [
      "plots_new/gnp_inf_strong.pdf\n",
      "plots_new/gnp_def_strong.pdf\n",
      "plots_new/gnp_tot_strong.pdf\n"
     ]
    },
    {
     "data": {
      "image/png": "[encoded data removed]",
      "text/plain": [
       "<Figure size 400x400 with 1 Axes>"
      ]
     },
     "metadata": {},
     "output_type": "display_data"
    },
    {
     "data": {
      "image/png": "[encoded data removed]",
      "text/plain": [
       "<Figure size 400x400 with 1 Axes>"
      ]
     },
     "metadata": {},
     "output_type": "display_data"
    },
    {
     "data": {
      "image/png": "[encoded data removed]",
      "text/plain": [
       "<Figure size 400x400 with 1 Axes>"
      ]
     },
     "metadata": {},
     "output_type": "display_data"
    }
   ],
   "source": [
    "best_inf_attacks += plot_data(dat_gnp, inf_attack, 'strong', 'rob', 'Malicious Error ($\\\\alpha_2$)', path + 'gnp_inf_strong.pdf', 40, True)\n",
    "best_def_attacks += plot_data(dat_gnp, def_attack, 'strong', 'acc', 'Honest Error ($\\\\alpha_1$)', path + 'gnp_def_strong.pdf', 40, False)\n",
    "best_attacks += plot_data(dat_gnp, attack, 'strong', 'total', '$\\\\ell_1$ Error', path + 'gnp_tot_strong.pdf', 40, True)"
   ]
  },
  {
   "cell_type": "code",
   "execution_count": 28,
   "id": "0e5237b6",
   "metadata": {},
   "outputs": [
    {
     "data": {
      "text/plain": [
       "['2 Def 20 Comm', 'Def Big Comm', '2 Def 20 Comm', 'Def Big Comm']"
      ]
     },
     "execution_count": 28,
     "metadata": {},
     "output_type": "execute_result"
    }
   ],
   "source": [
    "best_def_attacks"
   ]
  },
  {
   "cell_type": "markdown",
   "id": "c4879465-a2aa-4d59-bcf5-bd7190d1c42b",
   "metadata": {},
   "source": [
    "Some ratios used in the paper"
   ]
  },
  {
   "cell_type": "code",
   "execution_count": 29,
   "id": "182b79b1",
   "metadata": {},
   "outputs": [
    {
     "name": "stdout",
     "output_type": "stream",
     "text": [
      "16.227306351101483\n",
      "13.645996779766993\n"
     ]
    }
   ],
   "source": [
    "print( dat_gnp.loc['Naive, Response', :, :, :]['Hon T Max Error'].max() / dat_gnp.loc['RR+Laplace, Response', :, :, :]['Hon T Max Error'].max() )\n",
    "print( dat_gnp.loc['RR, Response', :, :, :]['Hon T Max Error'].max() / dat_gnp.loc['RR+Laplace, Response', :, :, :]['Hon T Max Error'].max() )"
   ]
  },
  {
   "cell_type": "code",
   "execution_count": 30,
   "id": "3bd453d9",
   "metadata": {},
   "outputs": [
    {
     "name": "stdout",
     "output_type": "stream",
     "text": [
      "6.318214659106211\n",
      "3.9870055069399157\n"
     ]
    }
   ],
   "source": [
    "print( dat_gnp.loc['Naive, Response', :, :, :]['l1norm'].max() / dat_gnp.loc['RR+Laplace, Response', :, :, :]['l1norm'].max() )\n",
    "print( dat_gnp.loc['RR, Response', :, :, :]['l1norm'].max() / dat_gnp.loc['RR+Laplace, Response', :, :, :]['l1norm'].max() )\n"
   ]
  },
  {
   "cell_type": "code",
   "execution_count": 31,
   "id": "72250e21",
   "metadata": {},
   "outputs": [
    {
     "data": {
      "text/plain": [
       "Protocol              Attack Strength\n",
       "Naive, Response       strong             0.000000\n",
       "RR+Laplace, Response  strong             0.598583\n",
       "RR, Response          strong             0.614417\n",
       "Name: PCT Disq, dtype: float64"
      ]
     },
     "execution_count": 31,
     "metadata": {},
     "output_type": "execute_result"
    }
   ],
   "source": [
    "get_pct_disq(pd.DataFrame(df_gnp))"
   ]
  },
  {
   "cell_type": "code",
   "execution_count": 32,
   "id": "58c5fb0b",
   "metadata": {},
   "outputs": [
    {
     "data": {
      "text/html": [
       "<div>\n",
       "<style scoped>\n",
       "    .dataframe tbody tr th:only-of-type {\n",
       "        vertical-align: middle;\n",
       "    }\n",
       "\n",
       "    .dataframe tbody tr th {\n",
       "        vertical-align: top;\n",
       "    }\n",
       "\n",
       "    .dataframe thead th {\n",
       "        text-align: right;\n",
       "    }\n",
       "</style>\n",
       "<table border=\"1\" class=\"dataframe\">\n",
       "  <thead>\n",
       "    <tr style=\"text-align: right;\">\n",
       "      <th></th>\n",
       "      <th></th>\n",
       "      <th></th>\n",
       "      <th></th>\n",
       "      <th>Eps</th>\n",
       "      <th>Mal Max Error</th>\n",
       "      <th>Mal L2 Error</th>\n",
       "      <th>Mal Mean Error</th>\n",
       "      <th>Mal T Nan</th>\n",
       "      <th>Mal T Tot</th>\n",
       "      <th>Mal Nan</th>\n",
       "      <th>Hon T Max Error</th>\n",
       "      <th>Hon T L2 Error</th>\n",
       "      <th>Hon T Mean Error</th>\n",
       "      <th>Hon T Nan</th>\n",
       "      <th>Hon T Tot</th>\n",
       "      <th>Rest Max Error</th>\n",
       "      <th>Rest L2 Error</th>\n",
       "      <th>Rest Mean Error</th>\n",
       "      <th>Rest Nan</th>\n",
       "      <th>Rest Tot</th>\n",
       "      <th>l1norm</th>\n",
       "    </tr>\n",
       "    <tr>\n",
       "      <th>Protocol</th>\n",
       "      <th>Threshold Strength</th>\n",
       "      <th>Attack</th>\n",
       "      <th>Attack Strength</th>\n",
       "      <th></th>\n",
       "      <th></th>\n",
       "      <th></th>\n",
       "      <th></th>\n",
       "      <th></th>\n",
       "      <th></th>\n",
       "      <th></th>\n",
       "      <th></th>\n",
       "      <th></th>\n",
       "      <th></th>\n",
       "      <th></th>\n",
       "      <th></th>\n",
       "      <th></th>\n",
       "      <th></th>\n",
       "      <th></th>\n",
       "      <th></th>\n",
       "      <th></th>\n",
       "      <th></th>\n",
       "    </tr>\n",
       "  </thead>\n",
       "  <tbody>\n",
       "  </tbody>\n",
       "</table>\n",
       "</div>"
      ],
      "text/plain": [
       "Empty DataFrame\n",
       "Columns: [Eps, Mal Max Error, Mal L2 Error, Mal Mean Error, Mal T Nan, Mal T Tot, Mal Nan, Hon T Max Error, Hon T L2 Error, Hon T Mean Error, Hon T Nan, Hon T Tot, Rest Max Error, Rest L2 Error, Rest Mean Error, Rest Nan, Rest Tot, l1norm]\n",
       "Index: []"
      ]
     },
     "execution_count": 32,
     "metadata": {},
     "output_type": "execute_result"
    }
   ],
   "source": [
    "get_honest_nans(dat_gnp)"
   ]
  },
  {
   "cell_type": "code",
   "execution_count": 33,
   "id": "54820a75",
   "metadata": {},
   "outputs": [
    {
     "data": {
      "text/html": [
       "<div>\n",
       "<style scoped>\n",
       "    .dataframe tbody tr th:only-of-type {\n",
       "        vertical-align: middle;\n",
       "    }\n",
       "\n",
       "    .dataframe tbody tr th {\n",
       "        vertical-align: top;\n",
       "    }\n",
       "\n",
       "    .dataframe thead th {\n",
       "        text-align: right;\n",
       "    }\n",
       "</style>\n",
       "<table border=\"1\" class=\"dataframe\">\n",
       "  <thead>\n",
       "    <tr style=\"text-align: right;\">\n",
       "      <th></th>\n",
       "      <th></th>\n",
       "      <th></th>\n",
       "      <th></th>\n",
       "      <th>Eps</th>\n",
       "      <th>Mal Max Error</th>\n",
       "      <th>Mal L2 Error</th>\n",
       "      <th>Mal Mean Error</th>\n",
       "      <th>Mal T Nan</th>\n",
       "      <th>Mal T Tot</th>\n",
       "      <th>Mal Nan</th>\n",
       "      <th>Hon T Max Error</th>\n",
       "      <th>Hon T L2 Error</th>\n",
       "      <th>Hon T Mean Error</th>\n",
       "      <th>Hon T Nan</th>\n",
       "      <th>Hon T Tot</th>\n",
       "      <th>Rest Max Error</th>\n",
       "      <th>Rest L2 Error</th>\n",
       "      <th>Rest Mean Error</th>\n",
       "      <th>Rest Nan</th>\n",
       "      <th>Rest Tot</th>\n",
       "      <th>l1norm</th>\n",
       "    </tr>\n",
       "    <tr>\n",
       "      <th>Protocol</th>\n",
       "      <th>Threshold Strength</th>\n",
       "      <th>Attack</th>\n",
       "      <th>Attack Strength</th>\n",
       "      <th></th>\n",
       "      <th></th>\n",
       "      <th></th>\n",
       "      <th></th>\n",
       "      <th></th>\n",
       "      <th></th>\n",
       "      <th></th>\n",
       "      <th></th>\n",
       "      <th></th>\n",
       "      <th></th>\n",
       "      <th></th>\n",
       "      <th></th>\n",
       "      <th></th>\n",
       "      <th></th>\n",
       "      <th></th>\n",
       "      <th></th>\n",
       "      <th></th>\n",
       "      <th></th>\n",
       "    </tr>\n",
       "  </thead>\n",
       "  <tbody>\n",
       "    <tr>\n",
       "      <th>RR+Laplace, Response</th>\n",
       "      <th>med</th>\n",
       "      <th>Def Big Comm</th>\n",
       "      <th>strong</th>\n",
       "      <td>0.7</td>\n",
       "      <td>0.0</td>\n",
       "      <td>0.0</td>\n",
       "      <td>0.0</td>\n",
       "      <td>0.0</td>\n",
       "      <td>0.0</td>\n",
       "      <td>38.70</td>\n",
       "      <td>20.765538</td>\n",
       "      <td>395.544039</td>\n",
       "      <td>14.279150</td>\n",
       "      <td>0.0</td>\n",
       "      <td>760.0</td>\n",
       "      <td>21.670069</td>\n",
       "      <td>812.003733</td>\n",
       "      <td>14.284368</td>\n",
       "      <td>0.0</td>\n",
       "      <td>3200.0</td>\n",
       "      <td>56580.730814</td>\n",
       "    </tr>\n",
       "    <tr>\n",
       "      <th>RR, Response</th>\n",
       "      <th>med</th>\n",
       "      <th>Def Big Comm</th>\n",
       "      <th>strong</th>\n",
       "      <td>0.7</td>\n",
       "      <td>0.0</td>\n",
       "      <td>0.0</td>\n",
       "      <td>0.0</td>\n",
       "      <td>0.0</td>\n",
       "      <td>0.0</td>\n",
       "      <td>39.55</td>\n",
       "      <td>283.366460</td>\n",
       "      <td>2335.210616</td>\n",
       "      <td>67.690499</td>\n",
       "      <td>0.0</td>\n",
       "      <td>760.0</td>\n",
       "      <td>283.258900</td>\n",
       "      <td>4405.517737</td>\n",
       "      <td>62.146031</td>\n",
       "      <td>0.0</td>\n",
       "      <td>3200.0</td>\n",
       "      <td>250551.166847</td>\n",
       "    </tr>\n",
       "  </tbody>\n",
       "</table>\n",
       "</div>"
      ],
      "text/plain": [
       "                                                                      Eps  \\\n",
       "Protocol             Threshold Strength Attack       Attack Strength        \n",
       "RR+Laplace, Response med                Def Big Comm strong           0.7   \n",
       "RR, Response         med                Def Big Comm strong           0.7   \n",
       "\n",
       "                                                                      Mal Max Error  \\\n",
       "Protocol             Threshold Strength Attack       Attack Strength                  \n",
       "RR+Laplace, Response med                Def Big Comm strong                     0.0   \n",
       "RR, Response         med                Def Big Comm strong                     0.0   \n",
       "\n",
       "                                                                      Mal L2 Error  \\\n",
       "Protocol             Threshold Strength Attack       Attack Strength                 \n",
       "RR+Laplace, Response med                Def Big Comm strong                    0.0   \n",
       "RR, Response         med                Def Big Comm strong                    0.0   \n",
       "\n",
       "                                                                      Mal Mean Error  \\\n",
       "Protocol             Threshold Strength Attack       Attack Strength                   \n",
       "RR+Laplace, Response med                Def Big Comm strong                      0.0   \n",
       "RR, Response         med                Def Big Comm strong                      0.0   \n",
       "\n",
       "                                                                      Mal T Nan  \\\n",
       "Protocol             Threshold Strength Attack       Attack Strength              \n",
       "RR+Laplace, Response med                Def Big Comm strong                 0.0   \n",
       "RR, Response         med                Def Big Comm strong                 0.0   \n",
       "\n",
       "                                                                      Mal T Tot  \\\n",
       "Protocol             Threshold Strength Attack       Attack Strength              \n",
       "RR+Laplace, Response med                Def Big Comm strong                 0.0   \n",
       "RR, Response         med                Def Big Comm strong                 0.0   \n",
       "\n",
       "                                                                      Mal Nan  \\\n",
       "Protocol             Threshold Strength Attack       Attack Strength            \n",
       "RR+Laplace, Response med                Def Big Comm strong             38.70   \n",
       "RR, Response         med                Def Big Comm strong             39.55   \n",
       "\n",
       "                                                                      Hon T Max Error  \\\n",
       "Protocol             Threshold Strength Attack       Attack Strength                    \n",
       "RR+Laplace, Response med                Def Big Comm strong                 20.765538   \n",
       "RR, Response         med                Def Big Comm strong                283.366460   \n",
       "\n",
       "                                                                      Hon T L2 Error  \\\n",
       "Protocol             Threshold Strength Attack       Attack Strength                   \n",
       "RR+Laplace, Response med                Def Big Comm strong               395.544039   \n",
       "RR, Response         med                Def Big Comm strong              2335.210616   \n",
       "\n",
       "                                                                      Hon T Mean Error  \\\n",
       "Protocol             Threshold Strength Attack       Attack Strength                     \n",
       "RR+Laplace, Response med                Def Big Comm strong                  14.279150   \n",
       "RR, Response         med                Def Big Comm strong                  67.690499   \n",
       "\n",
       "                                                                      Hon T Nan  \\\n",
       "Protocol             Threshold Strength Attack       Attack Strength              \n",
       "RR+Laplace, Response med                Def Big Comm strong                 0.0   \n",
       "RR, Response         med                Def Big Comm strong                 0.0   \n",
       "\n",
       "                                                                      Hon T Tot  \\\n",
       "Protocol             Threshold Strength Attack       Attack Strength              \n",
       "RR+Laplace, Response med                Def Big Comm strong               760.0   \n",
       "RR, Response         med                Def Big Comm strong               760.0   \n",
       "\n",
       "                                                                      Rest Max Error  \\\n",
       "Protocol             Threshold Strength Attack       Attack Strength                   \n",
       "RR+Laplace, Response med                Def Big Comm strong                21.670069   \n",
       "RR, Response         med                Def Big Comm strong               283.258900   \n",
       "\n",
       "                                                                      Rest L2 Error  \\\n",
       "Protocol             Threshold Strength Attack       Attack Strength                  \n",
       "RR+Laplace, Response med                Def Big Comm strong              812.003733   \n",
       "RR, Response         med                Def Big Comm strong             4405.517737   \n",
       "\n",
       "                                                                      Rest Mean Error  \\\n",
       "Protocol             Threshold Strength Attack       Attack Strength                    \n",
       "RR+Laplace, Response med                Def Big Comm strong                 14.284368   \n",
       "RR, Response         med                Def Big Comm strong                 62.146031   \n",
       "\n",
       "                                                                      Rest Nan  \\\n",
       "Protocol             Threshold Strength Attack       Attack Strength             \n",
       "RR+Laplace, Response med                Def Big Comm strong                0.0   \n",
       "RR, Response         med                Def Big Comm strong                0.0   \n",
       "\n",
       "                                                                      Rest Tot  \\\n",
       "Protocol             Threshold Strength Attack       Attack Strength             \n",
       "RR+Laplace, Response med                Def Big Comm strong             3200.0   \n",
       "RR, Response         med                Def Big Comm strong             3200.0   \n",
       "\n",
       "                                                                             l1norm  \n",
       "Protocol             Threshold Strength Attack       Attack Strength                 \n",
       "RR+Laplace, Response med                Def Big Comm strong            56580.730814  \n",
       "RR, Response         med                Def Big Comm strong           250551.166847  "
      ]
     },
     "execution_count": 33,
     "metadata": {},
     "output_type": "execute_result"
    }
   ],
   "source": [
    "dat_gnp.iloc[ np.where(dat_gnp['Mal Nan'] > 0)]"
   ]
  },
  {
   "cell_type": "markdown",
   "id": "8f4b6c89-83c7-4dec-841f-e8ad171869d5",
   "metadata": {},
   "source": [
    "### Forming a histogram of which attacks were most successful"
   ]
  },
  {
   "cell_type": "code",
   "execution_count": 34,
   "id": "1e974f11",
   "metadata": {},
   "outputs": [],
   "source": [
    "attack_hist = {d: [0, 0, 0] for d in attack}"
   ]
  },
  {
   "cell_type": "code",
   "execution_count": 35,
   "id": "79e9a014-346e-4fd2-981f-859a5a624049",
   "metadata": {},
   "outputs": [
    {
     "data": {
      "text/plain": [
       "['Def Big Comm', '2 Inf 20 Comm', '2 Inf 5 Comm', '2 Inf 20 Comm']"
      ]
     },
     "execution_count": 35,
     "metadata": {},
     "output_type": "execute_result"
    }
   ],
   "source": [
    "best_attacks"
   ]
  },
  {
   "cell_type": "code",
   "execution_count": 36,
   "id": "65641636",
   "metadata": {},
   "outputs": [],
   "source": [
    "best_attacks_df = pd.Series(best_attacks).value_counts()\n",
    "best_inf_attacks_df = pd.Series(best_inf_attacks).value_counts()\n",
    "best_def_attacks_df = pd.Series(best_def_attacks).value_counts()"
   ]
  },
  {
   "cell_type": "code",
   "execution_count": 37,
   "id": "9b48d3fe",
   "metadata": {},
   "outputs": [],
   "source": [
    "for i in best_attacks_df.index:\n",
    "    attack_hist[i][0] = best_attacks_df.loc[i]\n",
    "\n",
    "for i in best_inf_attacks_df.index:\n",
    "    attack_hist[i][1] = best_inf_attacks_df.loc[i]\n",
    "    \n",
    "for i in best_def_attacks_df.index:\n",
    "    attack_hist[i][2] = best_def_attacks_df.loc[i]"
   ]
  },
  {
   "cell_type": "code",
   "execution_count": 38,
   "id": "ff8766a1",
   "metadata": {},
   "outputs": [],
   "source": [
    "L = np.array([attack_hist[a] for a in attack_names])"
   ]
  },
  {
   "cell_type": "code",
   "execution_count": 40,
   "id": "10ee98a6",
   "metadata": {},
   "outputs": [
    {
     "data": {
      "text/plain": [
       "<matplotlib.legend.Legend at 0x1761397f0>"
      ]
     },
     "execution_count": 40,
     "metadata": {},
     "output_type": "execute_result"
    },
    {
     "data": {
      "image/png": "[encoded data removed]",
      "text/plain": [
       "<Figure size 1200x400 with 1 Axes>"
      ]
     },
     "metadata": {},
     "output_type": "display_data"
    }
   ],
   "source": [
    "fig, ax = plt.subplots()\n",
    "fig.set_figwidth(12)\n",
    "x = np.arange(0, len(attack), 1)\n",
    "ax.bar(x, L[:, 0], width = 0.25, label = 'L2 Error')\n",
    "ax.bar(x + .25, L[:, 1], width = 0.25, label = 'Malicious Target Error')\n",
    "ax.bar(x + 0.5, L[:, 2], width = 0.25, label = 'Honest Target Error')\n",
    "ax.set_xticks(x+0.25, [attack_names_short[a] for a in attack_names], rotation=90)\n",
    "fig.legend(loc='outside lower center')\n",
    "#ax.set_xticklabels(attack)"
   ]
  },
  {
   "cell_type": "code",
   "execution_count": 171,
   "id": "9d6cfb0d-7b48-4fea-a527-d028f062c7a2",
   "metadata": {},
   "outputs": [
    {
     "data": {
      "text/plain": [
       "{'Inf 1 Rand': 'A0',\n",
       " 'Def 1 Rand': 'A1',\n",
       " 'Inf 1 Friend': 'A2',\n",
       " 'Def 1 Friend': 'A3',\n",
       " 'Inf 5 Rand': 'A4',\n",
       " 'Inf 20 Rand': 'A5',\n",
       " 'Def 5 Comm': 'A6',\n",
       " 'Def 20 Comm': 'A7',\n",
       " 'Inf+Def 5 Comm': 'A8',\n",
       " 'Inf+Def 20 Comm': 'A9',\n",
       " '2 Inf 5 Comm': 'A10',\n",
       " '2 Def 5 Comm': 'A11',\n",
       " 'Inf 5 Def 5 Comm': 'A12',\n",
       " '2 Inf 20 Comm': 'A13',\n",
       " '2 Def 20 Comm': 'A14',\n",
       " 'Inf 20 Def 20 Comm': 'A15',\n",
       " 'Def Big Comm': 'A16'}"
      ]
     },
     "execution_count": 171,
     "metadata": {},
     "output_type": "execute_result"
    }
   ],
   "source": [
    "attack_names_short"
   ]
  },
  {
   "cell_type": "markdown",
   "id": "837c2e03-9483-446e-bcf4-f41a923390a7",
   "metadata": {},
   "source": [
    "## Evalutating flagging data"
   ]
  },
  {
   "cell_type": "code",
   "execution_count": 41,
   "id": "807ec6d3",
   "metadata": {},
   "outputs": [],
   "source": [
    "D0 = pd.DataFrame(df)\n",
    "D2 = pd.DataFrame(df_gnp)"
   ]
  },
  {
   "cell_type": "code",
   "execution_count": 42,
   "id": "190abebd",
   "metadata": {},
   "outputs": [],
   "source": [
    "df_total = pd.concat((D0, D2))"
   ]
  },
  {
   "cell_type": "code",
   "execution_count": 43,
   "id": "d64628d7",
   "metadata": {},
   "outputs": [],
   "source": [
    "df_nan = df_total[['Graph', 'Protocol', 'Attack', 'Attack Strength', 'Mal T Nan', 'Mal Nan', 'Mal T Tot']]\n",
    "df_nan = df_nan.groupby(['Graph', 'Protocol', 'Attack', 'Attack Strength']).mean()\n",
    "#df_nan.columns = df_nan.columns.get_level_values(0)\n",
    "df_nan.loc[:, 'Mal T Nan Pct'] = df_nan.loc[:, 'Mal T Nan'] / df_nan.loc[:, 'Mal T Tot']\n",
    "df_nan.loc[:, 'Mal Nan Pct'] = df_nan.loc[:, 'Mal Nan'] / (40 - df_nan.loc[:, 'Mal T Tot'])"
   ]
  },
  {
   "cell_type": "code",
   "execution_count": 44,
   "id": "8235b28f",
   "metadata": {
    "scrolled": true
   },
   "outputs": [],
   "source": [
    "inf_df_nan = df_nan.loc[df_nan.loc[:, 'Mal T Tot'] > 0, :]"
   ]
  },
  {
   "cell_type": "code",
   "execution_count": 45,
   "id": "fa79acc5",
   "metadata": {},
   "outputs": [
    {
     "data": {
      "text/html": [
       "<div>\n",
       "<style scoped>\n",
       "    .dataframe tbody tr th:only-of-type {\n",
       "        vertical-align: middle;\n",
       "    }\n",
       "\n",
       "    .dataframe tbody tr th {\n",
       "        vertical-align: top;\n",
       "    }\n",
       "\n",
       "    .dataframe thead tr th {\n",
       "        text-align: left;\n",
       "    }\n",
       "\n",
       "    .dataframe thead tr:last-of-type th {\n",
       "        text-align: right;\n",
       "    }\n",
       "</style>\n",
       "<table border=\"1\" class=\"dataframe\">\n",
       "  <thead>\n",
       "    <tr>\n",
       "      <th></th>\n",
       "      <th></th>\n",
       "      <th></th>\n",
       "      <th colspan=\"3\" halign=\"left\">Mal T Nan</th>\n",
       "      <th colspan=\"3\" halign=\"left\">Mal Nan</th>\n",
       "      <th colspan=\"3\" halign=\"left\">Mal T Tot</th>\n",
       "      <th colspan=\"3\" halign=\"left\">Mal T Nan Pct</th>\n",
       "      <th colspan=\"3\" halign=\"left\">Mal Nan Pct</th>\n",
       "    </tr>\n",
       "    <tr>\n",
       "      <th></th>\n",
       "      <th></th>\n",
       "      <th></th>\n",
       "      <th>mean</th>\n",
       "      <th>min</th>\n",
       "      <th>max</th>\n",
       "      <th>mean</th>\n",
       "      <th>min</th>\n",
       "      <th>max</th>\n",
       "      <th>mean</th>\n",
       "      <th>min</th>\n",
       "      <th>max</th>\n",
       "      <th>mean</th>\n",
       "      <th>min</th>\n",
       "      <th>max</th>\n",
       "      <th>mean</th>\n",
       "      <th>min</th>\n",
       "      <th>max</th>\n",
       "    </tr>\n",
       "    <tr>\n",
       "      <th>Graph</th>\n",
       "      <th>Protocol</th>\n",
       "      <th>Attack Strength</th>\n",
       "      <th></th>\n",
       "      <th></th>\n",
       "      <th></th>\n",
       "      <th></th>\n",
       "      <th></th>\n",
       "      <th></th>\n",
       "      <th></th>\n",
       "      <th></th>\n",
       "      <th></th>\n",
       "      <th></th>\n",
       "      <th></th>\n",
       "      <th></th>\n",
       "      <th></th>\n",
       "      <th></th>\n",
       "      <th></th>\n",
       "    </tr>\n",
       "  </thead>\n",
       "  <tbody>\n",
       "    <tr>\n",
       "      <th rowspan=\"3\" valign=\"top\">FB</th>\n",
       "      <th>Naive, Response</th>\n",
       "      <th>strong</th>\n",
       "      <td>0.000</td>\n",
       "      <td>0.00</td>\n",
       "      <td>0.00</td>\n",
       "      <td>0.0</td>\n",
       "      <td>0.0</td>\n",
       "      <td>0.0</td>\n",
       "      <td>8.2</td>\n",
       "      <td>1.0</td>\n",
       "      <td>20.0</td>\n",
       "      <td>0.000000</td>\n",
       "      <td>0.000</td>\n",
       "      <td>0.00</td>\n",
       "      <td>0.0</td>\n",
       "      <td>0.0</td>\n",
       "      <td>0.0</td>\n",
       "    </tr>\n",
       "    <tr>\n",
       "      <th>RR+Laplace, Response</th>\n",
       "      <th>strong</th>\n",
       "      <td>4.970</td>\n",
       "      <td>0.55</td>\n",
       "      <td>10.90</td>\n",
       "      <td>0.0</td>\n",
       "      <td>0.0</td>\n",
       "      <td>0.0</td>\n",
       "      <td>8.2</td>\n",
       "      <td>1.0</td>\n",
       "      <td>20.0</td>\n",
       "      <td>0.621167</td>\n",
       "      <td>0.545</td>\n",
       "      <td>0.70</td>\n",
       "      <td>0.0</td>\n",
       "      <td>0.0</td>\n",
       "      <td>0.0</td>\n",
       "    </tr>\n",
       "    <tr>\n",
       "      <th>RR, Response</th>\n",
       "      <th>strong</th>\n",
       "      <td>4.970</td>\n",
       "      <td>0.70</td>\n",
       "      <td>11.80</td>\n",
       "      <td>0.0</td>\n",
       "      <td>0.0</td>\n",
       "      <td>0.0</td>\n",
       "      <td>8.2</td>\n",
       "      <td>1.0</td>\n",
       "      <td>20.0</td>\n",
       "      <td>0.632250</td>\n",
       "      <td>0.560</td>\n",
       "      <td>0.75</td>\n",
       "      <td>0.0</td>\n",
       "      <td>0.0</td>\n",
       "      <td>0.0</td>\n",
       "    </tr>\n",
       "    <tr>\n",
       "      <th rowspan=\"3\" valign=\"top\">GNP</th>\n",
       "      <th>Naive, Response</th>\n",
       "      <th>strong</th>\n",
       "      <td>0.000</td>\n",
       "      <td>0.00</td>\n",
       "      <td>0.00</td>\n",
       "      <td>0.0</td>\n",
       "      <td>0.0</td>\n",
       "      <td>0.0</td>\n",
       "      <td>8.2</td>\n",
       "      <td>1.0</td>\n",
       "      <td>20.0</td>\n",
       "      <td>0.000000</td>\n",
       "      <td>0.000</td>\n",
       "      <td>0.00</td>\n",
       "      <td>0.0</td>\n",
       "      <td>0.0</td>\n",
       "      <td>0.0</td>\n",
       "    </tr>\n",
       "    <tr>\n",
       "      <th>RR+Laplace, Response</th>\n",
       "      <th>strong</th>\n",
       "      <td>4.740</td>\n",
       "      <td>0.55</td>\n",
       "      <td>10.20</td>\n",
       "      <td>0.0</td>\n",
       "      <td>0.0</td>\n",
       "      <td>0.0</td>\n",
       "      <td>8.2</td>\n",
       "      <td>1.0</td>\n",
       "      <td>20.0</td>\n",
       "      <td>0.598583</td>\n",
       "      <td>0.510</td>\n",
       "      <td>0.70</td>\n",
       "      <td>0.0</td>\n",
       "      <td>0.0</td>\n",
       "      <td>0.0</td>\n",
       "    </tr>\n",
       "    <tr>\n",
       "      <th>RR, Response</th>\n",
       "      <th>strong</th>\n",
       "      <td>4.835</td>\n",
       "      <td>0.65</td>\n",
       "      <td>10.65</td>\n",
       "      <td>0.0</td>\n",
       "      <td>0.0</td>\n",
       "      <td>0.0</td>\n",
       "      <td>8.2</td>\n",
       "      <td>1.0</td>\n",
       "      <td>20.0</td>\n",
       "      <td>0.614417</td>\n",
       "      <td>0.520</td>\n",
       "      <td>0.70</td>\n",
       "      <td>0.0</td>\n",
       "      <td>0.0</td>\n",
       "      <td>0.0</td>\n",
       "    </tr>\n",
       "  </tbody>\n",
       "</table>\n",
       "</div>"
      ],
      "text/plain": [
       "                                           Mal T Nan              Mal Nan  \\\n",
       "                                                mean   min    max    mean   \n",
       "Graph Protocol             Attack Strength                                  \n",
       "FB    Naive, Response      strong              0.000  0.00   0.00     0.0   \n",
       "      RR+Laplace, Response strong              4.970  0.55  10.90     0.0   \n",
       "      RR, Response         strong              4.970  0.70  11.80     0.0   \n",
       "GNP   Naive, Response      strong              0.000  0.00   0.00     0.0   \n",
       "      RR+Laplace, Response strong              4.740  0.55  10.20     0.0   \n",
       "      RR, Response         strong              4.835  0.65  10.65     0.0   \n",
       "\n",
       "                                                     Mal T Tot             \\\n",
       "                                            min  max      mean  min   max   \n",
       "Graph Protocol             Attack Strength                                  \n",
       "FB    Naive, Response      strong           0.0  0.0       8.2  1.0  20.0   \n",
       "      RR+Laplace, Response strong           0.0  0.0       8.2  1.0  20.0   \n",
       "      RR, Response         strong           0.0  0.0       8.2  1.0  20.0   \n",
       "GNP   Naive, Response      strong           0.0  0.0       8.2  1.0  20.0   \n",
       "      RR+Laplace, Response strong           0.0  0.0       8.2  1.0  20.0   \n",
       "      RR, Response         strong           0.0  0.0       8.2  1.0  20.0   \n",
       "\n",
       "                                           Mal T Nan Pct               \\\n",
       "                                                    mean    min   max   \n",
       "Graph Protocol             Attack Strength                              \n",
       "FB    Naive, Response      strong               0.000000  0.000  0.00   \n",
       "      RR+Laplace, Response strong               0.621167  0.545  0.70   \n",
       "      RR, Response         strong               0.632250  0.560  0.75   \n",
       "GNP   Naive, Response      strong               0.000000  0.000  0.00   \n",
       "      RR+Laplace, Response strong               0.598583  0.510  0.70   \n",
       "      RR, Response         strong               0.614417  0.520  0.70   \n",
       "\n",
       "                                           Mal Nan Pct            \n",
       "                                                  mean  min  max  \n",
       "Graph Protocol             Attack Strength                        \n",
       "FB    Naive, Response      strong                  0.0  0.0  0.0  \n",
       "      RR+Laplace, Response strong                  0.0  0.0  0.0  \n",
       "      RR, Response         strong                  0.0  0.0  0.0  \n",
       "GNP   Naive, Response      strong                  0.0  0.0  0.0  \n",
       "      RR+Laplace, Response strong                  0.0  0.0  0.0  \n",
       "      RR, Response         strong                  0.0  0.0  0.0  "
      ]
     },
     "execution_count": 45,
     "metadata": {},
     "output_type": "execute_result"
    }
   ],
   "source": [
    "inf_df_nan.groupby(['Graph', 'Protocol', 'Attack Strength']).agg([\"mean\", \"min\", \"max\"])"
   ]
  },
  {
   "cell_type": "code",
   "execution_count": 46,
   "id": "698fb20c",
   "metadata": {},
   "outputs": [],
   "source": [
    "inf_df_nan = df_nan.loc[df_nan.loc[:, 'Mal Nan Pct'] > 0, :]"
   ]
  },
  {
   "cell_type": "code",
   "execution_count": 47,
   "id": "726c0f6d",
   "metadata": {},
   "outputs": [
    {
     "data": {
      "text/html": [
       "<div>\n",
       "<style scoped>\n",
       "    .dataframe tbody tr th:only-of-type {\n",
       "        vertical-align: middle;\n",
       "    }\n",
       "\n",
       "    .dataframe tbody tr th {\n",
       "        vertical-align: top;\n",
       "    }\n",
       "\n",
       "    .dataframe thead tr th {\n",
       "        text-align: left;\n",
       "    }\n",
       "\n",
       "    .dataframe thead tr:last-of-type th {\n",
       "        text-align: right;\n",
       "    }\n",
       "</style>\n",
       "<table border=\"1\" class=\"dataframe\">\n",
       "  <thead>\n",
       "    <tr>\n",
       "      <th></th>\n",
       "      <th></th>\n",
       "      <th></th>\n",
       "      <th colspan=\"3\" halign=\"left\">Mal T Nan</th>\n",
       "      <th colspan=\"3\" halign=\"left\">Mal Nan</th>\n",
       "      <th colspan=\"3\" halign=\"left\">Mal T Tot</th>\n",
       "      <th colspan=\"3\" halign=\"left\">Mal T Nan Pct</th>\n",
       "      <th colspan=\"3\" halign=\"left\">Mal Nan Pct</th>\n",
       "    </tr>\n",
       "    <tr>\n",
       "      <th></th>\n",
       "      <th></th>\n",
       "      <th></th>\n",
       "      <th>mean</th>\n",
       "      <th>min</th>\n",
       "      <th>max</th>\n",
       "      <th>mean</th>\n",
       "      <th>min</th>\n",
       "      <th>max</th>\n",
       "      <th>mean</th>\n",
       "      <th>min</th>\n",
       "      <th>max</th>\n",
       "      <th>mean</th>\n",
       "      <th>min</th>\n",
       "      <th>max</th>\n",
       "      <th>mean</th>\n",
       "      <th>min</th>\n",
       "      <th>max</th>\n",
       "    </tr>\n",
       "    <tr>\n",
       "      <th>Graph</th>\n",
       "      <th>Protocol</th>\n",
       "      <th>Attack Strength</th>\n",
       "      <th></th>\n",
       "      <th></th>\n",
       "      <th></th>\n",
       "      <th></th>\n",
       "      <th></th>\n",
       "      <th></th>\n",
       "      <th></th>\n",
       "      <th></th>\n",
       "      <th></th>\n",
       "      <th></th>\n",
       "      <th></th>\n",
       "      <th></th>\n",
       "      <th></th>\n",
       "      <th></th>\n",
       "      <th></th>\n",
       "    </tr>\n",
       "  </thead>\n",
       "  <tbody>\n",
       "    <tr>\n",
       "      <th rowspan=\"2\" valign=\"top\">FB</th>\n",
       "      <th>RR+Laplace, Response</th>\n",
       "      <th>strong</th>\n",
       "      <td>0.0</td>\n",
       "      <td>0.0</td>\n",
       "      <td>0.0</td>\n",
       "      <td>1.80</td>\n",
       "      <td>1.80</td>\n",
       "      <td>1.80</td>\n",
       "      <td>0.0</td>\n",
       "      <td>0.0</td>\n",
       "      <td>0.0</td>\n",
       "      <td>NaN</td>\n",
       "      <td>NaN</td>\n",
       "      <td>NaN</td>\n",
       "      <td>0.04500</td>\n",
       "      <td>0.04500</td>\n",
       "      <td>0.04500</td>\n",
       "    </tr>\n",
       "    <tr>\n",
       "      <th>RR, Response</th>\n",
       "      <th>strong</th>\n",
       "      <td>0.0</td>\n",
       "      <td>0.0</td>\n",
       "      <td>0.0</td>\n",
       "      <td>1.20</td>\n",
       "      <td>1.20</td>\n",
       "      <td>1.20</td>\n",
       "      <td>0.0</td>\n",
       "      <td>0.0</td>\n",
       "      <td>0.0</td>\n",
       "      <td>NaN</td>\n",
       "      <td>NaN</td>\n",
       "      <td>NaN</td>\n",
       "      <td>0.03000</td>\n",
       "      <td>0.03000</td>\n",
       "      <td>0.03000</td>\n",
       "    </tr>\n",
       "    <tr>\n",
       "      <th rowspan=\"2\" valign=\"top\">GNP</th>\n",
       "      <th>RR+Laplace, Response</th>\n",
       "      <th>strong</th>\n",
       "      <td>0.0</td>\n",
       "      <td>0.0</td>\n",
       "      <td>0.0</td>\n",
       "      <td>38.70</td>\n",
       "      <td>38.70</td>\n",
       "      <td>38.70</td>\n",
       "      <td>0.0</td>\n",
       "      <td>0.0</td>\n",
       "      <td>0.0</td>\n",
       "      <td>NaN</td>\n",
       "      <td>NaN</td>\n",
       "      <td>NaN</td>\n",
       "      <td>0.96750</td>\n",
       "      <td>0.96750</td>\n",
       "      <td>0.96750</td>\n",
       "    </tr>\n",
       "    <tr>\n",
       "      <th>RR, Response</th>\n",
       "      <th>strong</th>\n",
       "      <td>0.0</td>\n",
       "      <td>0.0</td>\n",
       "      <td>0.0</td>\n",
       "      <td>39.55</td>\n",
       "      <td>39.55</td>\n",
       "      <td>39.55</td>\n",
       "      <td>0.0</td>\n",
       "      <td>0.0</td>\n",
       "      <td>0.0</td>\n",
       "      <td>NaN</td>\n",
       "      <td>NaN</td>\n",
       "      <td>NaN</td>\n",
       "      <td>0.98875</td>\n",
       "      <td>0.98875</td>\n",
       "      <td>0.98875</td>\n",
       "    </tr>\n",
       "  </tbody>\n",
       "</table>\n",
       "</div>"
      ],
      "text/plain": [
       "                                           Mal T Nan           Mal Nan         \\\n",
       "                                                mean  min  max    mean    min   \n",
       "Graph Protocol             Attack Strength                                      \n",
       "FB    RR+Laplace, Response strong                0.0  0.0  0.0    1.80   1.80   \n",
       "      RR, Response         strong                0.0  0.0  0.0    1.20   1.20   \n",
       "GNP   RR+Laplace, Response strong                0.0  0.0  0.0   38.70  38.70   \n",
       "      RR, Response         strong                0.0  0.0  0.0   39.55  39.55   \n",
       "\n",
       "                                                  Mal T Tot            \\\n",
       "                                              max      mean  min  max   \n",
       "Graph Protocol             Attack Strength                              \n",
       "FB    RR+Laplace, Response strong            1.80       0.0  0.0  0.0   \n",
       "      RR, Response         strong            1.20       0.0  0.0  0.0   \n",
       "GNP   RR+Laplace, Response strong           38.70       0.0  0.0  0.0   \n",
       "      RR, Response         strong           39.55       0.0  0.0  0.0   \n",
       "\n",
       "                                           Mal T Nan Pct         Mal Nan Pct  \\\n",
       "                                                    mean min max        mean   \n",
       "Graph Protocol             Attack Strength                                     \n",
       "FB    RR+Laplace, Response strong                    NaN NaN NaN     0.04500   \n",
       "      RR, Response         strong                    NaN NaN NaN     0.03000   \n",
       "GNP   RR+Laplace, Response strong                    NaN NaN NaN     0.96750   \n",
       "      RR, Response         strong                    NaN NaN NaN     0.98875   \n",
       "\n",
       "                                                              \n",
       "                                                min      max  \n",
       "Graph Protocol             Attack Strength                    \n",
       "FB    RR+Laplace, Response strong           0.04500  0.04500  \n",
       "      RR, Response         strong           0.03000  0.03000  \n",
       "GNP   RR+Laplace, Response strong           0.96750  0.96750  \n",
       "      RR, Response         strong           0.98875  0.98875  "
      ]
     },
     "execution_count": 47,
     "metadata": {},
     "output_type": "execute_result"
    }
   ],
   "source": [
    "inf_df_nan.groupby(['Graph', 'Protocol', 'Attack Strength']).agg([\"mean\", \"min\", \"max\"])"
   ]
  },
  {
   "cell_type": "code",
   "execution_count": 48,
   "id": "d6ca96a7",
   "metadata": {},
   "outputs": [],
   "source": [
    "df_nan2 = df_total[['Protocol', 'Attack', 'Attack Strength', 'Graph', 'Mal T Nan', 'Mal Nan', 'Mal T Tot']]"
   ]
  },
  {
   "cell_type": "code",
   "execution_count": 49,
   "id": "183de752",
   "metadata": {},
   "outputs": [],
   "source": [
    "df_nan2 = df_nan2.groupby(['Protocol', 'Attack', 'Attack Strength', 'Graph']).mean()"
   ]
  },
  {
   "cell_type": "code",
   "execution_count": 50,
   "id": "48ebebe3",
   "metadata": {},
   "outputs": [
    {
     "data": {
      "text/html": [
       "<div>\n",
       "<style scoped>\n",
       "    .dataframe tbody tr th:only-of-type {\n",
       "        vertical-align: middle;\n",
       "    }\n",
       "\n",
       "    .dataframe tbody tr th {\n",
       "        vertical-align: top;\n",
       "    }\n",
       "\n",
       "    .dataframe thead th {\n",
       "        text-align: right;\n",
       "    }\n",
       "</style>\n",
       "<table border=\"1\" class=\"dataframe\">\n",
       "  <thead>\n",
       "    <tr style=\"text-align: right;\">\n",
       "      <th></th>\n",
       "      <th></th>\n",
       "      <th></th>\n",
       "      <th></th>\n",
       "      <th>Mal T Nan</th>\n",
       "      <th>Mal Nan</th>\n",
       "      <th>Mal T Tot</th>\n",
       "    </tr>\n",
       "    <tr>\n",
       "      <th>Protocol</th>\n",
       "      <th>Attack</th>\n",
       "      <th>Attack Strength</th>\n",
       "      <th>Graph</th>\n",
       "      <th></th>\n",
       "      <th></th>\n",
       "      <th></th>\n",
       "    </tr>\n",
       "  </thead>\n",
       "  <tbody>\n",
       "    <tr>\n",
       "      <th rowspan=\"2\" valign=\"top\">RR+Laplace, Response</th>\n",
       "      <th rowspan=\"2\" valign=\"top\">Def Big Comm</th>\n",
       "      <th rowspan=\"2\" valign=\"top\">strong</th>\n",
       "      <th>FB</th>\n",
       "      <td>0.0</td>\n",
       "      <td>1.80</td>\n",
       "      <td>0.0</td>\n",
       "    </tr>\n",
       "    <tr>\n",
       "      <th>GNP</th>\n",
       "      <td>0.0</td>\n",
       "      <td>38.70</td>\n",
       "      <td>0.0</td>\n",
       "    </tr>\n",
       "    <tr>\n",
       "      <th rowspan=\"2\" valign=\"top\">RR, Response</th>\n",
       "      <th rowspan=\"2\" valign=\"top\">Def Big Comm</th>\n",
       "      <th rowspan=\"2\" valign=\"top\">strong</th>\n",
       "      <th>FB</th>\n",
       "      <td>0.0</td>\n",
       "      <td>1.20</td>\n",
       "      <td>0.0</td>\n",
       "    </tr>\n",
       "    <tr>\n",
       "      <th>GNP</th>\n",
       "      <td>0.0</td>\n",
       "      <td>39.55</td>\n",
       "      <td>0.0</td>\n",
       "    </tr>\n",
       "  </tbody>\n",
       "</table>\n",
       "</div>"
      ],
      "text/plain": [
       "                                                         Mal T Nan  Mal Nan  \\\n",
       "Protocol             Attack       Attack Strength Graph                       \n",
       "RR+Laplace, Response Def Big Comm strong          FB           0.0     1.80   \n",
       "                                                  GNP          0.0    38.70   \n",
       "RR, Response         Def Big Comm strong          FB           0.0     1.20   \n",
       "                                                  GNP          0.0    39.55   \n",
       "\n",
       "                                                         Mal T Tot  \n",
       "Protocol             Attack       Attack Strength Graph             \n",
       "RR+Laplace, Response Def Big Comm strong          FB           0.0  \n",
       "                                                  GNP          0.0  \n",
       "RR, Response         Def Big Comm strong          FB           0.0  \n",
       "                                                  GNP          0.0  "
      ]
     },
     "execution_count": 50,
     "metadata": {},
     "output_type": "execute_result"
    }
   ],
   "source": [
    "df_nan2[df_nan2['Mal Nan'] > 0]"
   ]
  },
  {
   "cell_type": "markdown",
   "id": "d01dcb00",
   "metadata": {},
   "source": [
    "# Evaluating effect of number of malicious users on error metrics"
   ]
  },
  {
   "cell_type": "code",
   "execution_count": 51,
   "id": "c3ce27ef",
   "metadata": {},
   "outputs": [],
   "source": [
    "gnm_inc_asymp = 2052\n",
    "fb_inc_asymp = 153\n",
    "gnm_dec_asymp = 27\n",
    "fb_dec_asymp = 84"
   ]
  },
  {
   "cell_type": "code",
   "execution_count": 52,
   "id": "cf73e3c5",
   "metadata": {},
   "outputs": [],
   "source": [
    "thresh_values = {'med': (0.9, 0.5, 0.5)}\n",
    "attack_values = {'strong': (0.17, 0.17)}"
   ]
  },
  {
   "cell_type": "code",
   "execution_count": 53,
   "id": "fd79ea36",
   "metadata": {},
   "outputs": [],
   "source": [
    "def collect_data_new(attack_names, g, g_name, max_adv, epsilons, thresh_values, attack_values, comm, reps):\n",
    "    labels = ['RR+Laplace, Response', 'RR+Laplace, Input', 'RR, Response', 'RR, Input', 'Naive, Response', 'Naive, Input']\n",
    "    E = [experiments.ResponseLaplaceManipulation(g, max_adv, 1.0, 1e-6, 0.1, [0.7, 0.5], [0.8, 0.5, 0.3]), \n",
    "         experiments.InputLaplaceManipulation(g, max_adv, 1.0, 1e-6, 0.1, [0.7, 0.5], [0.8, 0.5, 0.3]),\n",
    "         experiments.ResponseRRManipulation(g, max_adv, 1.0, 1e-6, [0.7], [0.8, 0.5]),\n",
    "         experiments.InputRRManipulation(g, max_adv, 1.0, 1e-6, [0.7], [0.8, 0.5]),\n",
    "         experiments.ResponseRRNaiveManipulation(g, max_adv, 1.0, 1e-6, [0.7], [0.8, 0.5]),\n",
    "         experiments.InputRRNaiveManipulation(g, max_adv, 1.0, 1e-6, [0.7], [0.8, 0.5])\n",
    "        ]\n",
    "    data = []\n",
    "    max_adv = (g.get_dim() * np.array(max_adv)).astype(int)\n",
    "    for x in range(0, reps):\n",
    "        for n_mal in max_adv:\n",
    "            t2 = int(n_mal // 6)\n",
    "            if attack_names[0] == 'Inf+Def Comm':\n",
    "                attacks = [ [(t2, t2, n_mal-t2, list(comm))] ]\n",
    "            elif attack_names[0] == '2 Inf Comm':\n",
    "                attacks = [ [(t2, 0, n_mal // 2 - t2, list(comm)), (t2, 0, n_mal // 2 - t2, list(comm))] ]\n",
    "            else:\n",
    "                assert False\n",
    "            #pdb.set_trace()\n",
    "            for epsilon in epsilons:\n",
    "                for exp in E:\n",
    "                    exp.set_epsilon(epsilon)\n",
    "                    exp.max_num_mal = n_mal\n",
    "                for a_i in range(0, len(attacks)):\n",
    "                    for i in range(0, len(E)):\n",
    "                        E[i].reset_attacks()\n",
    "                    E[0].add_attacks(attacks[a_i])\n",
    "                    for i in range(1, len(E)):\n",
    "                        E[i].set_attacks_like(E[0])\n",
    "\n",
    "                    for av in attack_values.keys():\n",
    "                        for tv in thresh_values.keys():\n",
    "                            for i in range(0, len(E)):\n",
    "                                E[i].threshold_reduction = thresh_values[tv]\n",
    "                                if 'Naive' in labels[i]:\n",
    "                                    E[i].inflation_factors = (1.0,)\n",
    "                                else:\n",
    "                                    E[i].inflation_factors = attack_values[av] \n",
    "                                d = E[i].get_results(False)\n",
    "                                h = {'Protocol': labels[i], 'Attack': attack_names[a_i], 'Attack Strength': av, 'Threshold Strength': tv, 'Eps': epsilon, 'Graph': g_name,\n",
    "                                    'Mal Max Error': d[0][0], 'Mal L2 Error': d[0][1], 'Mal Mean Error': d[0][2], 'Mal T Nan': d[1][0], 'Mal T Tot': d[1][1], 'Mal Nan': d[2],\n",
    "                                    'Num Mal': n_mal, 'Hon T Max Error': d[3][0], 'Hon T L2 Error': d[3][1], 'Hon T Mean Error': d[3][2], 'Hon T Nan': d[4][0], 'Hon T Tot': d[4][1],\n",
    "                                    'Rest Max Error': d[5][0], 'Rest L2 Error': d[5][1], 'Rest Mean Error': d[5][2], 'Rest Nan': d[6][0], 'Rest Tot': d[6][1]\n",
    "                                }\n",
    "                                data.append(h)\n",
    "    return data"
   ]
  },
  {
   "cell_type": "code",
   "execution_count": 54,
   "id": "865ae0c9",
   "metadata": {},
   "outputs": [],
   "source": [
    "#data_vary_n_mal = collect_data_new(['Inf+Def Comm'], g, 'FB', [0.01, 0.02, 0.03, 0.05, 0.10, 0.15, 0.20, 0.25, 0.30, 0.33], [0.7], thresh_values, attack_values, list(comms[1]) + list(comms[0]), 15)\n",
    "#data_vary_n_mal_gnp = collect_data_new(['Inf+Def Comm'], gnp, 'GNP', [0.01, 0.02, 0.03, 0.05, 0.10, 0.15, 0.20, 0.25, 0.30, 0.33], [0.7], thresh_values, attack_values, list(comms[1]) + list(comms[0]), 15)"
   ]
  },
  {
   "cell_type": "code",
   "execution_count": 55,
   "id": "bc44640b-5450-494d-8561-b5abc04ec95a",
   "metadata": {},
   "outputs": [],
   "source": [
    "#pickle.dump((data_vary_n_mal, data_vary_n_mal_gnp), open('df_vary.pkl', 'wb'))"
   ]
  },
  {
   "cell_type": "code",
   "execution_count": 56,
   "id": "83917631-9a0f-4c87-9b0d-ac9d4f89679c",
   "metadata": {},
   "outputs": [],
   "source": [
    "data_vary_n_mal, data_vary_n_mal_gnp = pickle.load(open('df_vary.pkl', 'rb'))"
   ]
  },
  {
   "cell_type": "code",
   "execution_count": 57,
   "id": "7fe27ece",
   "metadata": {},
   "outputs": [],
   "source": [
    "DF = pd.concat((pd.DataFrame(data_vary_n_mal), pd.DataFrame(data_vary_n_mal_gnp)))\n",
    "DF = DF.drop(['Attack Strength', 'Threshold Strength', 'Eps'], axis=1)"
   ]
  },
  {
   "cell_type": "code",
   "execution_count": 58,
   "id": "f6a3b3d3",
   "metadata": {},
   "outputs": [],
   "source": [
    "DF = DF.groupby(['Protocol', 'Attack', 'Graph', 'Num Mal']).mean()"
   ]
  },
  {
   "cell_type": "code",
   "execution_count": 59,
   "id": "4ab3ba6d",
   "metadata": {},
   "outputs": [
    {
     "data": {
      "text/plain": [
       "Index([  40,   80,  121,  201,  403,  605,  807, 1009, 1211, 1332,\n",
       "       ...\n",
       "         40,   80,  120,  200,  400,  600,  800, 1000, 1200, 1320],\n",
       "      dtype='int64', name='Num Mal', length=120)"
      ]
     },
     "execution_count": 59,
     "metadata": {},
     "output_type": "execute_result"
    }
   ],
   "source": [
    "DF.index.get_level_values(3)"
   ]
  },
  {
   "cell_type": "code",
   "execution_count": 60,
   "id": "efc4a5e6",
   "metadata": {},
   "outputs": [
    {
     "data": {
      "image/png": "[encoded data removed]",
      "text/plain": [
       "<Figure size 400x400 with 1 Axes>"
      ]
     },
     "metadata": {},
     "output_type": "display_data"
    },
    {
     "data": {
      "image/png": "[encoded data removed]",
      "text/plain": [
       "<Figure size 400x400 with 1 Axes>"
      ]
     },
     "metadata": {},
     "output_type": "display_data"
    }
   ],
   "source": [
    "matplotlib.rcParams['figure.figsize'] = (4.0,4.0)\n",
    "def do_nmal_plot(DF, graph, width, height, name):\n",
    "    fig, ax = plt.subplots()\n",
    "    P = DF.loc[:, 'Inf+Def Comm', graph, :]\n",
    "    n_nodes = 4000\n",
    "    colors = [CB_color_cycle[0], CB_color_cycle[0], CB_color_cycle[2], CB_color_cycle[2], CB_color_cycle[1], CB_color_cycle[1]]\n",
    "    markers = ['^', 'o', '^', 'o', '^', 'o']\n",
    "    att_names = list( P.index.get_level_values(0).unique() )\n",
    "    for i in range(0, len(att_names)):\n",
    "        Q = P.loc[att_names[i], :]\n",
    "        x = Q['Hon T Max Error']\n",
    "        y = Q['Mal Max Error']\n",
    "        nan = Q['Mal T Nan']\n",
    "        alphas = np.linspace(0.4, 1.0, len(x))\n",
    "        for j in range(0, len(x)):\n",
    "            ax.scatter(Q['Hon T Max Error'].iloc[j], Q['Mal Max Error'].iloc[j], c=colors[i], marker=markers[i], alpha = alphas[j])\n",
    "            if nan.iloc[j] > 0:\n",
    "                ax.scatter(Q['Hon T Max Error'].iloc[j], Q['Mal Max Error'].iloc[j], c='k', marker='x', zorder=5, s=50)\n",
    "\n",
    "    #ax.plot((0, width), (height, height), color='#f781bf', linewidth=1.5)\n",
    "    #ax.plot((width, width), (height, 0), color='#f781bf', linewidth=1.5)\n",
    "    #ax.hlines(height, 0, 5*n_nodes, color='#f781bf', linestyle='dotted')\n",
    "    #ax.vlines(width, 0, 5*n_nodes, color='#f781bf', linestyle='dotted')\n",
    "    ax.set_xlabel(r'Honest Error $(\\alpha_1)$')\n",
    "    ax.set_ylabel(r'Malicious Error $(\\alpha_2)$')\n",
    "    ax.set_yscale('log')\n",
    "    ax.set_ylim([100, 5*n_nodes])\n",
    "    ax.set_xlim([10, 5*n_nodes])\n",
    "    ax.set_xscale('log')\n",
    "    ax.set_title(r'$m = \\{1\\%, 2\\%, \\ldots, 33\\%\\}, \\epsilon = 0.7$')\n",
    "    #ax.annotate(r'$$d_{95}$$', (2.5*n_nodes, height * 1.2), fontsize=16)\n",
    "    #ax.annotate(r'$$d_{95}-d_{80}$$', (1.2*width, 3.5*n_nodes), fontsize=16)\n",
    "    plt.savefig(name, bbox_inches = \"tight\")\n",
    "    #Add asymptote for naive.\n",
    "do_nmal_plot(DF, 'FB', fb_dec_asymp, fb_inc_asymp, path+'fb_inf_vary_nmal.pdf')\n",
    "do_nmal_plot(DF, 'GNP', gnm_dec_asymp, gnm_inc_asymp, path+'gnp_inf_vary_nmal.pdf')"
   ]
  },
  {
   "cell_type": "code",
   "execution_count": 61,
   "id": "3d02d1b7",
   "metadata": {},
   "outputs": [
    {
     "name": "stdout",
     "output_type": "stream",
     "text": [
      "Attack\n",
      "Inf+Def Comm    5.810803\n",
      "Name: Hon T Max Error, dtype: float64\n"
     ]
    }
   ],
   "source": [
    "print( DF.loc['RR, Response', :, 'FB', 1332]['Hon T Max Error'] / DF.loc['RR, Response', :, 'FB', 40]['Hon T Max Error'])"
   ]
  },
  {
   "cell_type": "code",
   "execution_count": 62,
   "id": "f11e4fd6",
   "metadata": {},
   "outputs": [
    {
     "name": "stdout",
     "output_type": "stream",
     "text": [
      "Attack\n",
      "Inf+Def Comm    7.85631\n",
      "Name: Hon T Max Error, dtype: float64\n"
     ]
    }
   ],
   "source": [
    "print( DF.loc['RR, Response', :, 'GNP', 1320]['Hon T Max Error'] / DF.loc['RR, Response', :, 'GNP', 40]['Hon T Max Error'])"
   ]
  },
  {
   "cell_type": "markdown",
   "id": "0825a17d",
   "metadata": {},
   "source": [
    "# Evaluating effect of epsilon on error rates"
   ]
  },
  {
   "cell_type": "code",
   "execution_count": 63,
   "id": "389f7b12",
   "metadata": {
    "scrolled": true
   },
   "outputs": [],
   "source": [
    "#data_vary_eps = collect_data_new(['Inf+Def Comm'], g, 'FB', [0.01], [0.1, 0.2, 0.3, 0.5, 0.75, 1.0, 1.5, 2.0, 2.5, 3.0], thresh_values, attack_values, list(comms[1]), 10)\n",
    "#data_vary_eps_gnp = collect_data_new(['Inf+Def Comm'], g, 'GNP', [0.01], [0.1, 0.2, 0.3, 0.5, 0.75, 1.0, 1.5, 2.0, 2.5, 3.0], thresh_values, attack_values, comms_gnp, 10)"
   ]
  },
  {
   "cell_type": "code",
   "execution_count": 64,
   "id": "d54d8cab-1d3b-4585-91cf-c069df541113",
   "metadata": {},
   "outputs": [],
   "source": [
    "#pickle.dump((data_vary_eps, data_vary_eps_gnp), open('df_vary_eps.pkl', 'wb'))"
   ]
  },
  {
   "cell_type": "code",
   "execution_count": 65,
   "id": "1dad9fdf-b0d2-4d93-99d5-dde46a2bd8ef",
   "metadata": {},
   "outputs": [],
   "source": [
    "data_vary_eps, data_vary_eps_gnp = pickle.load(open('df_vary_eps.pkl', 'rb'))"
   ]
  },
  {
   "cell_type": "code",
   "execution_count": 66,
   "id": "ffc675ad",
   "metadata": {},
   "outputs": [],
   "source": [
    "DF2 = pd.concat(( pd.DataFrame(data_vary_eps), pd.DataFrame(data_vary_eps_gnp) ))"
   ]
  },
  {
   "cell_type": "code",
   "execution_count": 67,
   "id": "2c02ea5b",
   "metadata": {},
   "outputs": [],
   "source": [
    "DF2 = DF2.drop(['Threshold Strength', 'Attack Strength'], axis=1)"
   ]
  },
  {
   "cell_type": "code",
   "execution_count": 68,
   "id": "e013341d",
   "metadata": {},
   "outputs": [],
   "source": [
    "DF2 = DF2.groupby(['Protocol', 'Attack', 'Graph', 'Eps']).mean()"
   ]
  },
  {
   "cell_type": "code",
   "execution_count": 69,
   "id": "604bc8a4",
   "metadata": {},
   "outputs": [
    {
     "data": {
      "image/png": "[encoded data removed]",
      "text/plain": [
       "<Figure size 400x400 with 1 Axes>"
      ]
     },
     "metadata": {},
     "output_type": "display_data"
    },
    {
     "data": {
      "image/png": "[encoded data removed]",
      "text/plain": [
       "<Figure size 400x400 with 1 Axes>"
      ]
     },
     "metadata": {},
     "output_type": "display_data"
    }
   ],
   "source": [
    "def do_eps_plot(DF, graph, width, height, name):\n",
    "    fig, ax = plt.subplots()\n",
    "    P = DF.loc[:, 'Inf+Def Comm', graph, :]\n",
    "    n_nodes = 4000\n",
    "    colors = [CB_color_cycle[0], CB_color_cycle[0], CB_color_cycle[2], CB_color_cycle[2], CB_color_cycle[1], CB_color_cycle[1]]\n",
    "    markers = ['^', 'o', '^', 'o', '^', 'o']\n",
    "    att_names = list( P.index.get_level_values(0).unique() )\n",
    "    for i in range(0, len(att_names)):\n",
    "        Q = P.loc[att_names[i], :]\n",
    "        x = Q['Hon T Max Error']\n",
    "        y = Q['Mal Max Error']\n",
    "        alphas = np.linspace(0.4, 1.0, len(x))\n",
    "        nan = Q['Mal T Nan']\n",
    "        for j in range(0, len(x)):\n",
    "            ax.scatter(Q['Hon T Max Error'].iloc[j], Q['Mal Max Error'].iloc[j], c=colors[i], marker=markers[i], alpha=alphas[j])\n",
    "            if nan.iloc[j] > 0:\n",
    "                ax.scatter(Q['Hon T Max Error'].iloc[j], Q['Mal Max Error'].iloc[j], c='k', marker='x', zorder=5, s=50)\n",
    "\n",
    "    #ax.plot((0, width), (height, height), color='#f781bf', linewidth=1.5)\n",
    "    #ax.plot((width, width), (height, 0), color='#f781bf', linewidth=1.5)\n",
    "    #ax.hlines(height, 0, 10*n_nodes, color='#f781bf', linestyle='dotted')\n",
    "    #ax.vlines(width, 0, 10*n_nodes, color='#f781bf', linestyle='dotted')\n",
    "    ax.set_xlabel(r'Honest Error $(\\alpha_1)$')\n",
    "    ax.set_ylabel(r'Malicious Error $(\\alpha_2)$')\n",
    "    ax.set_yscale('log')\n",
    "    ax.set_ylim([100, 3*n_nodes])\n",
    "    #ax.set_xlim([1, 1500])\n",
    "    ax.set_xscale('log')\n",
    "    ax.set_title(r'$m = 40, \\epsilon = \\{0.1, 0.2, \\ldots, 3\\}$')\n",
    "    plt.savefig(name, bbox_inches = \"tight\")\n",
    "    \n",
    "do_eps_plot(DF2, 'FB', fb_dec_asymp, fb_inc_asymp, path+'fb_inf_vary_eps.pdf')\n",
    "do_eps_plot(DF2, 'GNP', gnm_dec_asymp, gnm_inc_asymp, path+'gnp_inf_vary_eps.pdf')"
   ]
  },
  {
   "cell_type": "code",
   "execution_count": 70,
   "id": "5cdfb5e6",
   "metadata": {},
   "outputs": [
    {
     "name": "stdout",
     "output_type": "stream",
     "text": [
      "Attack\n",
      "Inf+Def Comm    45.648196\n",
      "Name: Mal Max Error, dtype: float64\n"
     ]
    }
   ],
   "source": [
    "print( DF2.loc['RR, Response', :, 'FB', 0.1]['Mal Max Error'] / DF2.loc['RR, Response', :, 'FB', 3.0]['Mal Max Error'] )"
   ]
  },
  {
   "cell_type": "markdown",
   "id": "940facea",
   "metadata": {},
   "source": [
    "# TPR vs FPR for Varying Threshold."
   ]
  },
  {
   "cell_type": "code",
   "execution_count": 214,
   "id": "68d4ea34-1f32-4346-8d72-2e5b431f1047",
   "metadata": {},
   "outputs": [],
   "source": [
    "def collect_data_thresh(attack_names, g, g_name, max_adv, epsilons, thresh, thresh_ratios, attack_values, comm, reps):\n",
    "    labels = ['RR+Laplace, Response', \n",
    "              #'RR+Laplace, Input', \n",
    "              'RR, Response', \n",
    "              #'RR, Input', \n",
    "              'Naive, Response' \n",
    "              #'Naive, Input'\n",
    "             ]\n",
    "    E = [experiments.ResponseLaplaceManipulation(g, max_adv, 1.0, 1e-6, 0.1, [0.7, 0.5], [0.8, 0.5, 0.3]), \n",
    "         #experiments.InputLaplaceManipulation(g, max_adv, 1.0, 1e-6, 0.1, [0.7, 0.5], [0.8, 0.5, 0.3]),\n",
    "         experiments.ResponseRRManipulation(g, max_adv, 1.0, 1e-6, [0.7], [0.8, 0.5]),\n",
    "         #experiments.InputRRManipulation(g, max_adv, 1.0, 1e-6, [0.7], [0.8, 0.5]),\n",
    "         experiments.ResponseRRNaiveManipulation(g, max_adv, 1.0, 1e-6, [0.7], [0.8, 0.5]),\n",
    "         #experiments.InputRRNaiveManipulation(g, max_adv, 1.0, 1e-6, [0.7], [0.8, 0.5])\n",
    "        ]\n",
    "    data = []\n",
    "    max_adv = (g.get_dim() * np.array(max_adv)).astype(int)\n",
    "    for x in range(0, reps):\n",
    "        for n_mal in max_adv:\n",
    "            t2 = int(n_mal // 6)\n",
    "            if attack_names[0] == 'Inf+Def Comm':\n",
    "                attacks = [ [(t2, t2, n_mal-t2, list(comm))] ]\n",
    "            elif attack_names[0] == '2 Inf Comm':\n",
    "                attacks = [ [(t2, 0, n_mal // 2 - t2, list(comm)), (t2, 0, n_mal // 2 - t2, list(comm))] ]\n",
    "            else:\n",
    "                assert False\n",
    "            #pdb.set_trace()\n",
    "            for epsilon in epsilons:\n",
    "                for exp in E:\n",
    "                    exp.set_epsilon(epsilon)\n",
    "                    exp.max_num_mal = n_mal\n",
    "                for a_i in range(0, len(attacks)):\n",
    "                    for i in range(0, len(E)):\n",
    "                        E[i].reset_attacks()\n",
    "                    E[0].add_attacks(attacks[a_i])\n",
    "                    for i in range(1, len(E)):\n",
    "                        E[i].set_attacks_like(E[0])\n",
    "\n",
    "                    for av in attack_values.keys():\n",
    "                        for tr in thresh_ratios:\n",
    "                            for i in range(0, len(E)):\n",
    "                                E[i].threshold_reduction = tr * thresh\n",
    "                                E[i].num_flag = int(0.05 * g.get_size() * (2*tr-1))\n",
    "                                E[i].inflation_factors = attack_values[av]\n",
    "                                d = E[i].get_results(False)\n",
    "                                h = {'Protocol': labels[i], 'Attack': attack_names[a_i], 'Attack Strength': av, 'Threshold Strength': tr, 'Eps': epsilon, 'Graph': g_name,\n",
    "                                    'Mal Max Error': d[0][0], 'Mal L2 Error': d[0][1], 'Mal Mean Error': d[0][2], 'Mal T Nan': d[1][0], 'Mal T Tot': d[1][1], 'Mal Nan': d[2],\n",
    "                                    'Num Mal': n_mal, 'Hon T Max Error': d[3][0], 'Hon T L2 Error': d[3][1], 'Hon T Mean Error': d[3][2], 'Hon T Nan': d[4][0], 'Hon T Tot': d[4][1],\n",
    "                                    'Rest Max Error': d[5][0], 'Rest L2 Error': d[5][1], 'Rest Mean Error': d[5][2], 'Rest Nan': d[6][0], 'Rest Tot': d[6][1]\n",
    "                                }\n",
    "                                data.append(h)\n",
    "    return data"
   ]
  },
  {
   "cell_type": "code",
   "execution_count": 86,
   "id": "6f218f22",
   "metadata": {
    "scrolled": true
   },
   "outputs": [],
   "source": [
    "attack_values_t = {'med': (0.17/2, 0.17/2)}\n",
    "data_vary_thresh = collect_data_thresh(['2 Inf Comm'], g, 'FB', [0.01], [0.7], np.array([0.9, 0.5, 0.5]), np.linspace(0.55, 1.0, 10), attack_values_t, list(comms[1]), 10)\n",
    "data_vary_thresh_gnp = collect_data_thresh(['2 Inf Comm'], gnp, 'GNP', [0.01], [0.7], np.array([0.9, 0.5, 0.5]), np.linspace(0.55, 1.0, 10), attack_values_t, list(comms[1]), 10)"
   ]
  },
  {
   "cell_type": "code",
   "execution_count": 87,
   "id": "7a53c6ae-c36b-404e-b1ae-1faf157f7a7a",
   "metadata": {},
   "outputs": [],
   "source": [
    "pickle.dump((data_vary_thresh, data_vary_thresh_gnp), open('df_vary_thresh.pkl', 'wb'))"
   ]
  },
  {
   "cell_type": "code",
   "execution_count": 88,
   "id": "3d333cfa",
   "metadata": {},
   "outputs": [],
   "source": [
    "DF3 = pd.concat(( pd.DataFrame(data_vary_thresh), pd.DataFrame(data_vary_thresh_gnp) ))"
   ]
  },
  {
   "cell_type": "code",
   "execution_count": 89,
   "id": "c1d5b991",
   "metadata": {},
   "outputs": [],
   "source": [
    "DF3 = DF3.drop(['Attack Strength'], axis=1)"
   ]
  },
  {
   "cell_type": "code",
   "execution_count": 90,
   "id": "61bf4a65",
   "metadata": {},
   "outputs": [],
   "source": [
    "DF3 = DF3.groupby(['Protocol', 'Attack', 'Graph', 'Threshold Strength']).mean()"
   ]
  },
  {
   "cell_type": "code",
   "execution_count": 91,
   "id": "9265a16e",
   "metadata": {},
   "outputs": [
    {
     "data": {
      "text/html": [
       "<div>\n",
       "<style scoped>\n",
       "    .dataframe tbody tr th:only-of-type {\n",
       "        vertical-align: middle;\n",
       "    }\n",
       "\n",
       "    .dataframe tbody tr th {\n",
       "        vertical-align: top;\n",
       "    }\n",
       "\n",
       "    .dataframe thead th {\n",
       "        text-align: right;\n",
       "    }\n",
       "</style>\n",
       "<table border=\"1\" class=\"dataframe\">\n",
       "  <thead>\n",
       "    <tr style=\"text-align: right;\">\n",
       "      <th></th>\n",
       "      <th>Eps</th>\n",
       "      <th>Mal Max Error</th>\n",
       "      <th>Mal L2 Error</th>\n",
       "      <th>Mal Mean Error</th>\n",
       "      <th>Mal T Nan</th>\n",
       "      <th>Mal T Tot</th>\n",
       "      <th>Mal Nan</th>\n",
       "      <th>Num Mal</th>\n",
       "      <th>Hon T Max Error</th>\n",
       "      <th>Hon T L2 Error</th>\n",
       "      <th>Hon T Mean Error</th>\n",
       "      <th>Hon T Nan</th>\n",
       "      <th>Hon T Tot</th>\n",
       "      <th>Rest Max Error</th>\n",
       "      <th>Rest L2 Error</th>\n",
       "      <th>Rest Mean Error</th>\n",
       "      <th>Rest Nan</th>\n",
       "      <th>Rest Tot</th>\n",
       "    </tr>\n",
       "    <tr>\n",
       "      <th>Threshold Strength</th>\n",
       "      <th></th>\n",
       "      <th></th>\n",
       "      <th></th>\n",
       "      <th></th>\n",
       "      <th></th>\n",
       "      <th></th>\n",
       "      <th></th>\n",
       "      <th></th>\n",
       "      <th></th>\n",
       "      <th></th>\n",
       "      <th></th>\n",
       "      <th></th>\n",
       "      <th></th>\n",
       "      <th></th>\n",
       "      <th></th>\n",
       "      <th></th>\n",
       "      <th></th>\n",
       "      <th></th>\n",
       "    </tr>\n",
       "  </thead>\n",
       "  <tbody>\n",
       "    <tr>\n",
       "      <th>0.55</th>\n",
       "      <td>0.7</td>\n",
       "      <td>255.100049</td>\n",
       "      <td>315.755732</td>\n",
       "      <td>229.004509</td>\n",
       "      <td>10.1</td>\n",
       "      <td>12.0</td>\n",
       "      <td>1.0</td>\n",
       "      <td>40.0</td>\n",
       "      <td>0.0</td>\n",
       "      <td>0.0</td>\n",
       "      <td>0.0</td>\n",
       "      <td>0.0</td>\n",
       "      <td>0.0</td>\n",
       "      <td>233.265036</td>\n",
       "      <td>3691.780207</td>\n",
       "      <td>47.646827</td>\n",
       "      <td>171.7</td>\n",
       "      <td>3999.0</td>\n",
       "    </tr>\n",
       "    <tr>\n",
       "      <th>0.60</th>\n",
       "      <td>0.7</td>\n",
       "      <td>263.896470</td>\n",
       "      <td>400.897941</td>\n",
       "      <td>222.509139</td>\n",
       "      <td>9.1</td>\n",
       "      <td>12.0</td>\n",
       "      <td>0.5</td>\n",
       "      <td>40.0</td>\n",
       "      <td>0.0</td>\n",
       "      <td>0.0</td>\n",
       "      <td>0.0</td>\n",
       "      <td>0.0</td>\n",
       "      <td>0.0</td>\n",
       "      <td>218.835191</td>\n",
       "      <td>3716.817189</td>\n",
       "      <td>47.402144</td>\n",
       "      <td>82.3</td>\n",
       "      <td>3999.0</td>\n",
       "    </tr>\n",
       "    <tr>\n",
       "      <th>0.65</th>\n",
       "      <td>0.7</td>\n",
       "      <td>335.377941</td>\n",
       "      <td>560.861283</td>\n",
       "      <td>258.175027</td>\n",
       "      <td>7.4</td>\n",
       "      <td>12.0</td>\n",
       "      <td>0.1</td>\n",
       "      <td>40.0</td>\n",
       "      <td>0.0</td>\n",
       "      <td>0.0</td>\n",
       "      <td>0.0</td>\n",
       "      <td>0.0</td>\n",
       "      <td>0.0</td>\n",
       "      <td>224.341180</td>\n",
       "      <td>3749.962718</td>\n",
       "      <td>47.466558</td>\n",
       "      <td>29.4</td>\n",
       "      <td>3999.0</td>\n",
       "    </tr>\n",
       "    <tr>\n",
       "      <th>0.70</th>\n",
       "      <td>0.7</td>\n",
       "      <td>314.937632</td>\n",
       "      <td>613.509725</td>\n",
       "      <td>240.140572</td>\n",
       "      <td>5.7</td>\n",
       "      <td>12.0</td>\n",
       "      <td>0.1</td>\n",
       "      <td>40.0</td>\n",
       "      <td>0.0</td>\n",
       "      <td>0.0</td>\n",
       "      <td>0.0</td>\n",
       "      <td>0.0</td>\n",
       "      <td>0.0</td>\n",
       "      <td>227.291996</td>\n",
       "      <td>3736.589105</td>\n",
       "      <td>47.256601</td>\n",
       "      <td>9.5</td>\n",
       "      <td>3999.0</td>\n",
       "    </tr>\n",
       "    <tr>\n",
       "      <th>0.75</th>\n",
       "      <td>0.7</td>\n",
       "      <td>366.885302</td>\n",
       "      <td>809.147231</td>\n",
       "      <td>263.470488</td>\n",
       "      <td>3.0</td>\n",
       "      <td>12.0</td>\n",
       "      <td>0.0</td>\n",
       "      <td>40.0</td>\n",
       "      <td>0.0</td>\n",
       "      <td>0.0</td>\n",
       "      <td>0.0</td>\n",
       "      <td>0.0</td>\n",
       "      <td>0.0</td>\n",
       "      <td>226.141742</td>\n",
       "      <td>3768.826928</td>\n",
       "      <td>47.610424</td>\n",
       "      <td>2.9</td>\n",
       "      <td>3999.0</td>\n",
       "    </tr>\n",
       "    <tr>\n",
       "      <th>0.80</th>\n",
       "      <td>0.7</td>\n",
       "      <td>332.818639</td>\n",
       "      <td>781.137708</td>\n",
       "      <td>250.125108</td>\n",
       "      <td>2.6</td>\n",
       "      <td>12.0</td>\n",
       "      <td>0.1</td>\n",
       "      <td>40.0</td>\n",
       "      <td>0.0</td>\n",
       "      <td>0.0</td>\n",
       "      <td>0.0</td>\n",
       "      <td>0.0</td>\n",
       "      <td>0.0</td>\n",
       "      <td>226.397638</td>\n",
       "      <td>3771.025102</td>\n",
       "      <td>47.594763</td>\n",
       "      <td>0.6</td>\n",
       "      <td>3999.0</td>\n",
       "    </tr>\n",
       "    <tr>\n",
       "      <th>0.85</th>\n",
       "      <td>0.7</td>\n",
       "      <td>357.885691</td>\n",
       "      <td>884.015420</td>\n",
       "      <td>257.407769</td>\n",
       "      <td>0.9</td>\n",
       "      <td>12.0</td>\n",
       "      <td>0.0</td>\n",
       "      <td>40.0</td>\n",
       "      <td>0.0</td>\n",
       "      <td>0.0</td>\n",
       "      <td>0.0</td>\n",
       "      <td>0.0</td>\n",
       "      <td>0.0</td>\n",
       "      <td>223.449968</td>\n",
       "      <td>3772.941700</td>\n",
       "      <td>47.600223</td>\n",
       "      <td>0.1</td>\n",
       "      <td>3999.0</td>\n",
       "    </tr>\n",
       "    <tr>\n",
       "      <th>0.90</th>\n",
       "      <td>0.7</td>\n",
       "      <td>361.052743</td>\n",
       "      <td>864.841416</td>\n",
       "      <td>248.646000</td>\n",
       "      <td>0.6</td>\n",
       "      <td>12.0</td>\n",
       "      <td>0.0</td>\n",
       "      <td>40.0</td>\n",
       "      <td>0.0</td>\n",
       "      <td>0.0</td>\n",
       "      <td>0.0</td>\n",
       "      <td>0.0</td>\n",
       "      <td>0.0</td>\n",
       "      <td>221.371242</td>\n",
       "      <td>3753.380592</td>\n",
       "      <td>47.335362</td>\n",
       "      <td>0.0</td>\n",
       "      <td>3999.0</td>\n",
       "    </tr>\n",
       "    <tr>\n",
       "      <th>0.95</th>\n",
       "      <td>0.7</td>\n",
       "      <td>372.547317</td>\n",
       "      <td>960.491040</td>\n",
       "      <td>271.637598</td>\n",
       "      <td>0.1</td>\n",
       "      <td>12.0</td>\n",
       "      <td>0.0</td>\n",
       "      <td>40.0</td>\n",
       "      <td>0.0</td>\n",
       "      <td>0.0</td>\n",
       "      <td>0.0</td>\n",
       "      <td>0.0</td>\n",
       "      <td>0.0</td>\n",
       "      <td>225.316934</td>\n",
       "      <td>3772.555072</td>\n",
       "      <td>47.544290</td>\n",
       "      <td>0.0</td>\n",
       "      <td>3999.0</td>\n",
       "    </tr>\n",
       "    <tr>\n",
       "      <th>1.00</th>\n",
       "      <td>0.7</td>\n",
       "      <td>361.215147</td>\n",
       "      <td>927.376865</td>\n",
       "      <td>258.516550</td>\n",
       "      <td>0.0</td>\n",
       "      <td>12.0</td>\n",
       "      <td>0.0</td>\n",
       "      <td>40.0</td>\n",
       "      <td>0.0</td>\n",
       "      <td>0.0</td>\n",
       "      <td>0.0</td>\n",
       "      <td>0.0</td>\n",
       "      <td>0.0</td>\n",
       "      <td>233.245871</td>\n",
       "      <td>3779.581709</td>\n",
       "      <td>47.622564</td>\n",
       "      <td>0.0</td>\n",
       "      <td>3999.0</td>\n",
       "    </tr>\n",
       "  </tbody>\n",
       "</table>\n",
       "</div>"
      ],
      "text/plain": [
       "                    Eps  Mal Max Error  Mal L2 Error  Mal Mean Error  \\\n",
       "Threshold Strength                                                     \n",
       "0.55                0.7     255.100049    315.755732      229.004509   \n",
       "0.60                0.7     263.896470    400.897941      222.509139   \n",
       "0.65                0.7     335.377941    560.861283      258.175027   \n",
       "0.70                0.7     314.937632    613.509725      240.140572   \n",
       "0.75                0.7     366.885302    809.147231      263.470488   \n",
       "0.80                0.7     332.818639    781.137708      250.125108   \n",
       "0.85                0.7     357.885691    884.015420      257.407769   \n",
       "0.90                0.7     361.052743    864.841416      248.646000   \n",
       "0.95                0.7     372.547317    960.491040      271.637598   \n",
       "1.00                0.7     361.215147    927.376865      258.516550   \n",
       "\n",
       "                    Mal T Nan  Mal T Tot  Mal Nan  Num Mal  Hon T Max Error  \\\n",
       "Threshold Strength                                                            \n",
       "0.55                     10.1       12.0      1.0     40.0              0.0   \n",
       "0.60                      9.1       12.0      0.5     40.0              0.0   \n",
       "0.65                      7.4       12.0      0.1     40.0              0.0   \n",
       "0.70                      5.7       12.0      0.1     40.0              0.0   \n",
       "0.75                      3.0       12.0      0.0     40.0              0.0   \n",
       "0.80                      2.6       12.0      0.1     40.0              0.0   \n",
       "0.85                      0.9       12.0      0.0     40.0              0.0   \n",
       "0.90                      0.6       12.0      0.0     40.0              0.0   \n",
       "0.95                      0.1       12.0      0.0     40.0              0.0   \n",
       "1.00                      0.0       12.0      0.0     40.0              0.0   \n",
       "\n",
       "                    Hon T L2 Error  Hon T Mean Error  Hon T Nan  Hon T Tot  \\\n",
       "Threshold Strength                                                           \n",
       "0.55                           0.0               0.0        0.0        0.0   \n",
       "0.60                           0.0               0.0        0.0        0.0   \n",
       "0.65                           0.0               0.0        0.0        0.0   \n",
       "0.70                           0.0               0.0        0.0        0.0   \n",
       "0.75                           0.0               0.0        0.0        0.0   \n",
       "0.80                           0.0               0.0        0.0        0.0   \n",
       "0.85                           0.0               0.0        0.0        0.0   \n",
       "0.90                           0.0               0.0        0.0        0.0   \n",
       "0.95                           0.0               0.0        0.0        0.0   \n",
       "1.00                           0.0               0.0        0.0        0.0   \n",
       "\n",
       "                    Rest Max Error  Rest L2 Error  Rest Mean Error  Rest Nan  \\\n",
       "Threshold Strength                                                             \n",
       "0.55                    233.265036    3691.780207        47.646827     171.7   \n",
       "0.60                    218.835191    3716.817189        47.402144      82.3   \n",
       "0.65                    224.341180    3749.962718        47.466558      29.4   \n",
       "0.70                    227.291996    3736.589105        47.256601       9.5   \n",
       "0.75                    226.141742    3768.826928        47.610424       2.9   \n",
       "0.80                    226.397638    3771.025102        47.594763       0.6   \n",
       "0.85                    223.449968    3772.941700        47.600223       0.1   \n",
       "0.90                    221.371242    3753.380592        47.335362       0.0   \n",
       "0.95                    225.316934    3772.555072        47.544290       0.0   \n",
       "1.00                    233.245871    3779.581709        47.622564       0.0   \n",
       "\n",
       "                    Rest Tot  \n",
       "Threshold Strength            \n",
       "0.55                  3999.0  \n",
       "0.60                  3999.0  \n",
       "0.65                  3999.0  \n",
       "0.70                  3999.0  \n",
       "0.75                  3999.0  \n",
       "0.80                  3999.0  \n",
       "0.85                  3999.0  \n",
       "0.90                  3999.0  \n",
       "0.95                  3999.0  \n",
       "1.00                  3999.0  "
      ]
     },
     "execution_count": 91,
     "metadata": {},
     "output_type": "execute_result"
    }
   ],
   "source": [
    "# Honest users flagged vs % malicious users flagged scatter plot.\n",
    "DF3.loc['RR, Response', '2 Inf Comm', 'FB', :]"
   ]
  },
  {
   "cell_type": "code",
   "execution_count": 659,
   "id": "8c05e23d",
   "metadata": {},
   "outputs": [
    {
     "data": {
      "image/png": "[encoded data removed]",
      "text/plain": [
       "<Figure size 400x400 with 1 Axes>"
      ]
     },
     "metadata": {},
     "output_type": "display_data"
    },
    {
     "data": {
      "image/png": "[encoded data removed]",
      "text/plain": [
       "<Figure size 400x400 with 1 Axes>"
      ]
     },
     "metadata": {},
     "output_type": "display_data"
    }
   ],
   "source": [
    "def do_thresh_plot(DF3, graph, name):\n",
    "    fig, ax = plt.subplots(figsize=(4,4))\n",
    "    P = DF3.loc[:, '2 Inf Comm', graph, :]\n",
    "    colors = [CB_color_cycle[2], CB_color_cycle[1], CB_color_cycle[3]]\n",
    "    markers = ['o', 'o', 'o']\n",
    "    att_names = ['RR+Laplace, Response', 'RR, Response', 'Naive, Response']\n",
    "    for i in range(0, len(att_names)):\n",
    "        Q = P.loc[att_names[i], :]\n",
    "        x = Q['Rest Nan'] / Q['Rest Tot']\n",
    "        y = Q['Mal T Nan'] / Q['Mal T Tot']\n",
    "        alphas = np.linspace(0.4, 1.0, len(x))\n",
    "        for j in range(0, len(x)):\n",
    "            ax.scatter(x.iloc[j], y.iloc[j], color=colors[i], marker=markers[i])\n",
    "        #pdb.set_trace()\n",
    "    ax.set_xlabel('FPR')\n",
    "    ax.set_ylabel('TPR')\n",
    "    ax.set_title(r'$m = 40, \\epsilon = 0.7$')\n",
    "    ax.arrow(0.004, 0.1, 0.04, 0, head_length=0.002, head_width=0.02)\n",
    "    ax.annotate(r'Decreasing Protocol Threshold ($\\tau$)', (0.005, 0.13), rotation=0, size=12)\n",
    "    plt.savefig(name, bbox_inches='tight')\n",
    "\"\"\"\n",
    "    P1 = DF3.loc['Naive, Response', '2 Inf Comm', 'FB', :]\n",
    "    ax.scatter(P1['Mal T Nan'] / P1['Mal T Tot'], P1['Rest Nan'] / P1['Rest Tot'])\n",
    "    P2 = DF3.loc['RR, Response', '2 Inf Comm', 'FB', :]\n",
    "    ax.scatter(P2['Mal T Nan'] / P2['Mal T Tot'], P2['Rest Nan'] / P2['Rest Tot'])\n",
    "    P3 = DF3.loc['RR+Laplace, Response', '2 Inf Comm', 'FB', :]\n",
    "    ax.scatter(P3['Mal T Nan'] / P3['Mal T Tot'], P3['Rest Nan'] / P3['Rest Tot'])\n",
    "\n",
    "    plt.savefig(path+'thresh_scatter.pdf')\n",
    "\"\"\"\n",
    "do_thresh_plot(DF3, 'FB', path+'fb_inf_vary_thresh.pdf')\n",
    "do_thresh_plot(DF3, 'GNP', path+'gnp_inf_vary_thresh.pdf')"
   ]
  },
  {
   "cell_type": "markdown",
   "id": "63e091a2",
   "metadata": {},
   "source": [
    "# Comparing Input Vs Response on Strongest Possible Attacks"
   ]
  },
  {
   "cell_type": "code",
   "execution_count": 93,
   "id": "df1b5b5c",
   "metadata": {},
   "outputs": [],
   "source": [
    "def collect_data_ir(attack_names, g, g_name, max_adv, epsilons, thresh_values, attack_values, comm, reps):\n",
    "    labels = ['RR+Laplace, Response', 'RR+Laplace, Input', 'RR, Response', 'RR, Input', 'Naive, Response', 'Naive, Input']\n",
    "    E = [experiments.ResponseLaplaceManipulation(g, max_adv, 1.0, 1e-6, 0.1, [0.7, 0.5], [0.8, 0.5, 0.3]), \n",
    "         experiments.InputLaplaceManipulation(g, max_adv, 1.0, 1e-6, 0.1, [0.7, 0.5], [0.8, 0.5, 0.3]),\n",
    "         experiments.ResponseRRManipulation(g, max_adv, 1.0, 1e-6, [0.7], [0.8, 0.5]),\n",
    "         experiments.InputRRManipulation(g, max_adv, 1.0, 1e-6, [0.7], [0.8, 0.5]),\n",
    "         experiments.ResponseRRNaiveManipulation(g, max_adv, 1.0, 1e-6, [0.7], [0.8, 0.5]),\n",
    "         experiments.InputRRNaiveManipulation(g, max_adv, 1.0, 1e-6, [0.7], [0.8, 0.5])\n",
    "        ]\n",
    "    \n",
    "    data = []\n",
    "    max_adv = (g.get_dim() * np.array(max_adv)).astype(int)\n",
    "    for x in range(0, reps):\n",
    "        for n_mal in max_adv:\n",
    "            t2 = int(n_mal // 6)\n",
    "            attacks = [ [(t2, t2, n_mal-t2, list(comm))] ]\n",
    "            for epsilon in epsilons:\n",
    "                for exp in E:\n",
    "                    exp.set_epsilon(epsilon)\n",
    "                    exp.max_num_mal = n_mal\n",
    "                for a_i in range(0, len(attacks)):\n",
    "                    for i in range(0, len(E)):\n",
    "                        E[i].reset_attacks()\n",
    "                    E[0].add_attacks(attacks[a_i])\n",
    "                    for i in range(1, len(E)):\n",
    "                        E[i].set_attacks_like(E[0])\n",
    "\n",
    "                    for av in attack_values.keys():\n",
    "                        for tv in thresh_values.keys():\n",
    "                            for i in range(0, len(E)):\n",
    "                                #Naive always worst attack\n",
    "                                if 'Naive' in labels[i]:\n",
    "                                    E[i].inflation_factors = (1.0,)\n",
    "                                else:\n",
    "                                    E[i].inflation_factors = attack_values[av]\n",
    "                                E[i].threshold_reduction = thresh_values[tv]\n",
    "                                d = E[i].get_results(False)\n",
    "                                h = {'Protocol': labels[i], 'Attack': attack_names[a_i], 'Attack Strength': av, 'Threshold Strength': tv, 'Eps': epsilon, 'Graph': g_name,\n",
    "                                    'Mal Max Error': d[0][0], 'Mal L2 Error': d[0][1], 'Mal Mean Error': d[0][2], 'Mal T Nan': d[1][0], 'Mal T Tot': d[1][1], 'Mal Nan': d[2],\n",
    "                                    'Num Mal': n_mal, 'Hon T Max Error': d[3][0], 'Hon T L2 Error': d[3][1], 'Hon T Mean Error': d[3][2], 'Hon T Nan': d[4][0], 'Hon T Tot': d[4][1],\n",
    "                                    'Rest Max Error': d[5][0], 'Rest L2 Error': d[5][1], 'Rest Mean Error': d[5][2], 'Rest Nan': d[6][0], 'Rest Tot': d[6][1]\n",
    "                                }\n",
    "                                data.append(h)\n",
    "    return data"
   ]
  },
  {
   "cell_type": "code",
   "execution_count": 154,
   "id": "ab0bffa2",
   "metadata": {},
   "outputs": [],
   "source": [
    "#data_ir = collect_data_ir(['Inf+Def Comm'], g, 'FB', [0.01], [0.7, 3.0], {'med': (0.9, 0.5, 0.5)}, {'strong': (0.17, 0.17)}, list(comms[1]) + list(comms[0]), 10)\n",
    "#data_ir2 = collect_data_ir(['Inf+Def Comm'], g, 'FB', [0.33], [0.7, 3.0], {'med': (0.3, 0.2, 0.2)}, {'strong': (0.3, 0.3)}, list(comms[1]) + list(comms[0]), 10)"
   ]
  },
  {
   "cell_type": "code",
   "execution_count": 155,
   "id": "dba5a2b0",
   "metadata": {},
   "outputs": [],
   "source": [
    "#pickle.dump((data_ir, data_ir2), open('df4.pkl', 'wb'))\n",
    "data_ir, data_ir2 = pickle.load(open('df4.pkl', 'rb'))\n",
    "df_ir = pd.concat((pd.DataFrame(data_ir), pd.DataFrame(data_ir2)))"
   ]
  },
  {
   "cell_type": "code",
   "execution_count": 163,
   "id": "27b1e952",
   "metadata": {},
   "outputs": [],
   "source": [
    "#data_ir_gnp = collect_data_ir(['Inf+Def Comm'], gnp, 'GNP', [0.01], [0.7, 3.0], {'med': (0.9, 0.5, 0.5)}, {'strong': (0.17, 0.17)}, list(comms[1]) + list(comms[0]), 10)\n",
    "#data_ir2_gnp = collect_data_ir(['Inf+Def Comm'], gnp, 'GNP', [0.33], [0.7, 3.0], {'med': (0.3, 0.2, 0.2)}, {'strong': (0.3, 0.3)}, list(comms[1]) + list(comms[0]), 10)"
   ]
  },
  {
   "cell_type": "code",
   "execution_count": 164,
   "id": "8f2c69d2",
   "metadata": {},
   "outputs": [],
   "source": [
    "#pickle.dump((data_ir_gnp, data_ir2_gnp), open('df5.pkl', 'wb'))\n",
    "data_ir_gnp, data_ir2_gnp = pickle.load(open('df5.pkl', 'rb'))\n",
    "df_ir_gnp = pd.concat( (pd.DataFrame(data_ir_gnp), pd.DataFrame(data_ir2_gnp) ))"
   ]
  },
  {
   "cell_type": "code",
   "execution_count": 165,
   "id": "697b77b0",
   "metadata": {},
   "outputs": [],
   "source": [
    "df_ir = df_ir.groupby(['Protocol', 'Attack', 'Attack Strength', 'Threshold Strength', 'Graph', 'Eps', 'Num Mal']).mean()\n",
    "df_ir_gnp = df_ir_gnp.groupby(['Protocol', 'Attack', 'Attack Strength', 'Threshold Strength', 'Graph', 'Eps', 'Num Mal']).mean()"
   ]
  },
  {
   "cell_type": "code",
   "execution_count": 167,
   "id": "5150c1c6",
   "metadata": {},
   "outputs": [],
   "source": [
    "def do_plot(df_ir, eps, graph, n_mal, name, width, height, arrow = 0):\n",
    "    P = df_ir.loc[:, 'Inf+Def Comm', 'strong', 'med', graph, eps, n_mal]\n",
    "    #pdb.set_trace()\n",
    "    names = list(P.index)\n",
    "    n_nodes = 4000\n",
    "    fig, ax = plt.subplots(figsize=(4.0, 4.0))\n",
    "    markers = {'RR+Laplace, Response':'o', 'RR+Laplace, Input':'^', 'RR, Response':'o',\n",
    "               'RR, Input':'^', 'Naive, Response':'o', 'Naive, Input':'^'}\n",
    "    colors = {'RR+Laplace, Response': CB_color_cycle[2], 'RR+Laplace, Input':CB_color_cycle[2], \n",
    "              'RR, Response':CB_color_cycle[1], 'RR, Input':CB_color_cycle[1],\n",
    "              'Naive, Response':CB_color_cycle[0], 'Naive, Input':CB_color_cycle[0]}\n",
    "    for k in markers.keys():\n",
    "        ax.scatter( P.loc[:, 'Hon T Max Error'][k], P.loc[:, 'Mal Max Error'][k], c = colors[k], marker = markers[k])\n",
    "        #pdb.set_trace()\n",
    "        if P.loc[:, 'Mal T Nan'][k] > 0:\n",
    "            ax.scatter( P.loc[:, 'Hon T Max Error'][k], P.loc[:, 'Mal Max Error'][k], c='k', marker='x', zorder=5, s=50)\n",
    "    ax.plot((0, width), (height, height), color='#f781bf', linewidth=1.5)\n",
    "    ax.plot((width, width), (height, 0), color='#f781bf', linewidth=1.5)\n",
    "    ax.hlines(height, 0, 10*n_nodes, color='#f781bf', linestyle='dotted')\n",
    "    ax.vlines(width, 0, 10*n_nodes, color='#f781bf', linestyle='dotted')\n",
    "    ax.set_xlim([1, 10*n_nodes])\n",
    "    ax.set_xscale('log')\n",
    "    ax.set_xlabel(r'Honest Error $(\\alpha_1)$')\n",
    "    ax.set_ylim([1, 10*n_nodes])\n",
    "    ax.set_yscale('log')\n",
    "    ax.set_ylabel(r'Malicious Error $(\\alpha_2)$')\n",
    "    ax.set_title('$\\\\epsilon=%0.2f, m=%d$' % (eps, n_mal))\n",
    "    if arrow == 1:\n",
    "        ax.arrow(3, 2, 0, 5000, head_length=3000, head_width=1)\n",
    "        ax.annotate('Increasing malicious error', (1.3,2), rotation=90)\n",
    "    elif arrow == -1:\n",
    "        ax.arrow(2, 2, 5000, 0, head_length=3000, head_width=1)\n",
    "        ax.annotate('Increasing honest error', (2, 2.8), rotation=0)\n",
    "    else:\n",
    "        ax.annotate(r'$$d_{95}$$', (1.3, height*0.5), fontsize=16)\n",
    "        ax.annotate(r'$$d_{95}-d_{80}$$', (width*1.3, 2), fontsize=16)\n",
    "    plt.savefig(path+name, bbox_inches = \"tight\")"
   ]
  },
  {
   "cell_type": "code",
   "execution_count": 168,
   "id": "83ff7d04",
   "metadata": {},
   "outputs": [
    {
     "data": {
      "image/png": "[encoded data removed]",
      "text/plain": [
       "<Figure size 400x400 with 1 Axes>"
      ]
     },
     "metadata": {},
     "output_type": "display_data"
    },
    {
     "data": {
      "image/png": "[encoded data removed]",
      "text/plain": [
       "<Figure size 400x400 with 1 Axes>"
      ]
     },
     "metadata": {},
     "output_type": "display_data"
    },
    {
     "data": {
      "image/png": "[encoded data removed]",
      "text/plain": [
       "<Figure size 400x400 with 1 Axes>"
      ]
     },
     "metadata": {},
     "output_type": "display_data"
    },
    {
     "data": {
      "image/png": "[encoded data removed]",
      "text/plain": [
       "<Figure size 400x400 with 1 Axes>"
      ]
     },
     "metadata": {},
     "output_type": "display_data"
    }
   ],
   "source": [
    "do_plot(df_ir, 0.7, 'FB', 40, 'fb_lowEps_lowM.pdf', fb_dec_asymp, fb_inc_asymp)\n",
    "do_plot(df_ir, 3.0, 'FB', 40, 'fb_hiEps_lowM.pdf', fb_dec_asymp, fb_inc_asymp)\n",
    "do_plot(df_ir, 0.7, 'FB', 1332, 'fb_lowEps_hiM.pdf', fb_dec_asymp, fb_inc_asymp)\n",
    "do_plot(df_ir, 3.0, 'FB', 1332, 'fb_hiEps_hiM.pdf', fb_dec_asymp, fb_inc_asymp)"
   ]
  },
  {
   "cell_type": "code",
   "execution_count": 169,
   "id": "087f943c",
   "metadata": {},
   "outputs": [
    {
     "name": "stdout",
     "output_type": "stream",
     "text": [
      "Attack        Attack Strength  Threshold Strength  Graph\n",
      "Inf+Def Comm  strong           med                 FB       5.145979\n",
      "Name: Mal Max Error, dtype: float64\n",
      "Attack        Attack Strength  Threshold Strength  Graph\n",
      "Inf+Def Comm  strong           med                 FB       2.605368\n",
      "Name: Hon T Max Error, dtype: float64\n"
     ]
    }
   ],
   "source": [
    "print( df_ir.loc['RR+Laplace, Response', :, :, :, :, 0.7, 1332]['Mal Max Error'] / df_ir.loc['RR+Laplace, Input', :, :, :, :, 0.7, 1332]['Mal Max Error'] )\n",
    "print( df_ir.loc['RR, Response', :, :, :, :, 0.7, 1332]['Hon T Max Error'] / df_ir.loc['RR, Input', :, :, :, :, 0.7, 1332]['Hon T Max Error'] )"
   ]
  },
  {
   "cell_type": "code",
   "execution_count": 170,
   "id": "b5d7d058",
   "metadata": {},
   "outputs": [
    {
     "data": {
      "image/png": "[encoded data removed]",
      "text/plain": [
       "<Figure size 400x400 with 1 Axes>"
      ]
     },
     "metadata": {},
     "output_type": "display_data"
    },
    {
     "data": {
      "image/png": "[encoded data removed]",
      "text/plain": [
       "<Figure size 400x400 with 1 Axes>"
      ]
     },
     "metadata": {},
     "output_type": "display_data"
    },
    {
     "data": {
      "image/png": "[encoded data removed]",
      "text/plain": [
       "<Figure size 400x400 with 1 Axes>"
      ]
     },
     "metadata": {},
     "output_type": "display_data"
    },
    {
     "data": {
      "image/png": "[encoded data removed]",
      "text/plain": [
       "<Figure size 400x400 with 1 Axes>"
      ]
     },
     "metadata": {},
     "output_type": "display_data"
    }
   ],
   "source": [
    "do_plot(df_ir_gnp, 0.7, 'GNP', 40, 'gnp_lowEps_lowM.pdf', gnm_dec_asymp, gnm_inc_asymp)\n",
    "do_plot(df_ir_gnp, 3.0, 'GNP', 40, 'gnp_hiEps_lowM.pdf', gnm_dec_asymp, gnm_inc_asymp)\n",
    "do_plot(df_ir_gnp, 0.7, 'GNP', 1320, 'gnp_lowEps_hiM.pdf', gnm_dec_asymp, gnm_inc_asymp)\n",
    "do_plot(df_ir_gnp, 3.0, 'GNP', 1320, 'gnp_hiEps_hiM.pdf', gnm_dec_asymp, gnm_inc_asymp)"
   ]
  },
  {
   "cell_type": "markdown",
   "id": "4f74ec37-4af5-4b5e-8ba6-9d1801ce4d9c",
   "metadata": {},
   "source": [
    "# Adaptive poisoning experiments"
   ]
  },
  {
   "cell_type": "code",
   "execution_count": 608,
   "id": "455c96b3-188d-4b8f-ada3-3514300f0016",
   "metadata": {},
   "outputs": [],
   "source": [
    "#Make a plot of probability of failure vs 'normalized' malicious error threshold\n",
    "attack_values_p = {t: (t*0.25, t*0.25) for t in np.linspace(0.2, 1, 20)}\n",
    "df_poi = collect_data_thresh(['2 Inf Comm'], g, 'FB', [0.01], [0.7], np.array((0.9, 0.5, 0.5)), [1.0], attack_values_p, list(comms[1]), 20)\n",
    "df_poi2 = collect_data_thresh(['2 Inf Comm'], gnp, 'GNP', [0.01], [3.0], np.array((0.9, 0.5, 0.5)), [1.0], attack_values_p, list(comms[1]), 20)\n",
    "pickle.dump((df_poi, df_poi2), open('df-poi.pkl', 'wb'))"
   ]
  },
  {
   "cell_type": "code",
   "execution_count": 619,
   "id": "975763e9-145f-4e7b-9fd7-62bd38e2907c",
   "metadata": {},
   "outputs": [],
   "source": [
    "df_poi, df_poi2 = pickle.load(open('df-poi2.pkl', 'rb'))\n",
    "DFP = pd.concat((pd.DataFrame(df_poi), pd.DataFrame(df_poi2))).drop(['Threshold Strength'], axis=1)"
   ]
  },
  {
   "cell_type": "code",
   "execution_count": 620,
   "id": "68d829ea-cc9d-4203-ac61-883a7fc856f9",
   "metadata": {},
   "outputs": [],
   "source": [
    "DFP = DFP.groupby(['Protocol', 'Attack', 'Graph', 'Attack Strength']).mean()"
   ]
  },
  {
   "cell_type": "code",
   "execution_count": 628,
   "id": "a19037ed-1402-41e6-9a45-fd5dc02495f4",
   "metadata": {},
   "outputs": [
    {
     "data": {
      "text/plain": [
       "[<matplotlib.collections.PathCollection at 0x43b5fc190>,\n",
       " <matplotlib.collections.PathCollection at 0x711443c50>,\n",
       " <matplotlib.collections.PathCollection at 0x711440050>]"
      ]
     },
     "execution_count": 628,
     "metadata": {},
     "output_type": "execute_result"
    },
    {
     "data": {
      "image/png": "[encoded data removed]",
      "text/plain": [
       "<Figure size 400x400 with 1 Axes>"
      ]
     },
     "metadata": {},
     "output_type": "display_data"
    },
    {
     "data": {
      "image/png": "[encoded data removed]",
      "text/plain": [
       "<Figure size 400x400 with 1 Axes>"
      ]
     },
     "metadata": {},
     "output_type": "display_data"
    }
   ],
   "source": [
    "def do_adp_plot(df_poi, g_name, n_mal, f_name):\n",
    "    fig, ax = plt.subplots(figsize=(4,4))\n",
    "    patches = []\n",
    "    P = df_poi.loc[:, '2 Inf Comm', g_name, :]\n",
    "    n_nodes = g.get_size()\n",
    "    colors = [CB_color_cycle[2], CB_color_cycle[1], CB_color_cycle[3]]\n",
    "    markers = ['o', 'o', 'o']\n",
    "    eps = P['Eps']\n",
    "    assert (eps.min() == eps.max())\n",
    "    eps = eps.max()\n",
    "    att_names = ['RR+Laplace, Response', 'RR, Response', 'Naive, Response']\n",
    "    for i in range(0, len(att_names)):\n",
    "        Q = P.loc[att_names[i], :]\n",
    "        y = Q['Mal Mean Error']\n",
    "        x = Q['Mal T Nan'] / Q['Mal T Tot']\n",
    "        #alphas = np.linspace(0.4, 1.0, len(x))\n",
    "        #for j in range(0, len(x)):\n",
    "        pN = ax.scatter(x, y, color=colors[i], marker=markers[i])\n",
    "        #pdb.set_trace()\n",
    "        patches.append(pN)\n",
    "    ax.set_xlabel('Probability of Flagging Adversary')\n",
    "    ax.set_ylabel(r'Malicious Error $(\\alpha_2)$')\n",
    "    ax.set_title(r'$m = %d, \\epsilon = %0.2f$' % (int(n_mal), eps))\n",
    "    ax.set_yscale('log')\n",
    "    ax.arrow(0.1, 150, 0.9, 0, head_length=0.05, head_width=10)\n",
    "    ax.annotate('Increasing falsified bits from 5\\\\% to 25\\\\%', (0.05,160), size=12)\n",
    "    plt.savefig(f_name, bbox_inches='tight')\n",
    "    return patches\n",
    "\n",
    "patches = do_adp_plot(DFP, 'FB', g.get_size() * 0.02, path+'fb_poi.pdf')\n",
    "do_adp_plot(DFP, 'GNP', gnp.get_size() * 0.02, path+'gnp_poi.pdf')"
   ]
  },
  {
   "cell_type": "code",
   "execution_count": 627,
   "id": "cce7cad1-0c5c-4092-b6ea-554a3154e7fe",
   "metadata": {},
   "outputs": [
    {
     "data": {
      "text/plain": [
       "<Figure size 400x400 with 0 Axes>"
      ]
     },
     "metadata": {},
     "output_type": "display_data"
    }
   ],
   "source": [
    "labels = ['Hybrid', 'RRCheck', 'SimpleRR with Baseline Def.']\n",
    "#labels.insert(2, 'Some Malicious Users Flagged ($\\perp$ returned)')\n",
    "legendFig = plt.figure(\"Legend plot\")\n",
    "legendFig.legend(patches, labels, loc='center', ncol=3)\n",
    "legendFig.savefig(path + 'poi-legend.pdf', bbox_inches='tight')\n",
    "#legendFig.show()"
   ]
  },
  {
   "cell_type": "markdown",
   "id": "a52ade66-a3f8-4fd8-917d-c7b54adbe65b",
   "metadata": {},
   "source": [
    "# n_mal > m experiments"
   ]
  },
  {
   "cell_type": "code",
   "execution_count": 312,
   "id": "2ddb4d91-d0a0-4aa1-802e-b3ec34f3f74e",
   "metadata": {},
   "outputs": [],
   "source": [
    "def collect_data_supermal(attack_names, g, g_name, adv_known, n_actual_mal, epsilons, thresh_values, attack_values, comm, reps):\n",
    "    labels = ['RR+Laplace, Response', 'RR, Response', 'Naive, Response']\n",
    "    E = [experiments.ResponseLaplaceManipulation(g, adv_known, 1.0, 1e-6, 0.1, [0.7, 0.5], [0.8, 0.5, 0.5]), \n",
    "         #experiments.InputLaplaceManipulation(g, max_adv, 1.0, 1e-6, 0.1, [0.7, 0.5], [0.8, 0.5, 0.5]),\n",
    "         experiments.ResponseRRManipulation(g, adv_known, 1.0, 1e-6, [0.7], [0.8, 0.5]),\n",
    "         #experiments.InputRRManipulation(g, max_adv, 1.0, 1e-6, [0.7], [0.8, 0.5]),\n",
    "         experiments.ResponseRRNaiveManipulation(g, adv_known, 1.0, 1e-6, [0.7], [0.8, 0.5])\n",
    "         #experiments.InputRRNaiveManipulation(g, max_adv, 1.0, 1e-6, [0.7], [0.8, 0.5])\n",
    "        ]\n",
    "    data = []\n",
    "    for x in range(0, reps):\n",
    "        for n_mal in n_actual_mal:\n",
    "            t2 = int(n_mal // 6)\n",
    "            if attack_names[0] == 'Inf+Def Comm':\n",
    "                attacks = [ [(t2, t2, n_mal-t2, list(comm))] ]\n",
    "            elif attack_names[0] == '2 Inf Comm':\n",
    "                attacks = [ [(t2, 0, n_mal // 2 - t2, list(comm)), (t2, 0, n_mal // 2 - t2, list(comm))] ]\n",
    "            else:\n",
    "                assert False\n",
    "            #pdb.set_trace()\n",
    "            for epsilon in epsilons:\n",
    "                for exp in E:\n",
    "                    exp.set_epsilon(epsilon)\n",
    "                for a_i in range(0, len(attacks)):\n",
    "                    for i in range(0, len(E)):\n",
    "                        E[i].reset_attacks()\n",
    "                        E[i].max_num_mal = n_mal\n",
    "                    E[0].add_attacks(attacks[a_i])\n",
    "                    for i in range(1, len(E)):\n",
    "                        E[i].set_attacks_like(E[0])\n",
    "                    for exp in E:\n",
    "                        #Falsely set attacks too low\n",
    "                        exp.max_num_mal = adv_known\n",
    "                    #pdb.set_trace()\n",
    "                    for av in attack_values.keys():\n",
    "                        for tv in thresh_values.keys():\n",
    "                            for i in range(0, len(E)):\n",
    "                                E[i].threshold_reduction = thresh_values[tv]\n",
    "                                if 'Naive' in labels[i]:\n",
    "                                    E[i].inflation_factors = (1.0,)\n",
    "                                else:\n",
    "                                    E[i].inflation_factors = attack_values[av] \n",
    "                                d = E[i].get_results(False)\n",
    "                                h = {'Protocol': labels[i], 'Attack': attack_names[a_i], 'Attack Strength': av, 'Threshold Strength': tv, 'Eps': epsilon, 'Graph': g_name,\n",
    "                                    'Mal Max Error': d[0][0], 'Mal L2 Error': d[0][1], 'Mal Mean Error': d[0][2], 'Mal T Nan': d[1][0], 'Mal T Tot': d[1][1], 'Mal Nan': d[2],\n",
    "                                    'Num Mal': n_mal, 'Hon T Max Error': d[3][0], 'Hon T L2 Error': d[3][1], 'Hon T Mean Error': d[3][2], 'Hon T Nan': d[4][0], 'Hon T Tot': d[4][1],\n",
    "                                    'Rest Max Error': d[5][0], 'Rest L2 Error': d[5][1], 'Rest Mean Error': d[5][2], 'Rest Nan': d[6][0], 'Rest Tot': d[6][1]\n",
    "                                }\n",
    "                                data.append(h)\n",
    "    return data"
   ]
  },
  {
   "cell_type": "code",
   "execution_count": 313,
   "id": "063eb149-47e9-46ba-92de-004f45be2ac0",
   "metadata": {},
   "outputs": [],
   "source": [
    "data_vary_n_supermal = collect_data_supermal(['Inf+Def Comm'], g, 'FB', 40, np.arange(40, 800, 50), [3.0], thresh_values, attack_values, list(comms[1]) + list(comms[0]), 15)\n",
    "data_vary_n_supermal_gnp = collect_data_supermal(['Inf+Def Comm'], gnp, 'GNP', 40, np.arange(40, 800, 50), [3.0], thresh_values, attack_values, list(comms[1]) + list(comms[0]), 15)"
   ]
  },
  {
   "cell_type": "code",
   "execution_count": 314,
   "id": "88fd1127-80e7-4ef0-bb2e-d9e1705b1608",
   "metadata": {},
   "outputs": [],
   "source": [
    "pickle.dump((data_vary_n_supermal, data_vary_n_supermal_gnp), open('df-supermal.pkl', 'wb'))\n",
    "df_sup = pd.concat((pd.DataFrame(data_vary_n_supermal), pd.DataFrame(data_vary_n_supermal_gnp)))"
   ]
  },
  {
   "cell_type": "code",
   "execution_count": 316,
   "id": "6b5ba41a-e201-4c8f-bbf6-6b43ceb4a42a",
   "metadata": {},
   "outputs": [],
   "source": [
    "DF_sup = df_sup.drop(['Attack Strength', 'Threshold Strength'], axis=1).groupby(['Protocol', 'Attack', 'Eps', 'Graph', 'Num Mal']).mean()"
   ]
  },
  {
   "cell_type": "code",
   "execution_count": 650,
   "id": "05435297-ee3a-49d3-91ba-b70f0ddbcb62",
   "metadata": {},
   "outputs": [],
   "source": [
    "def do_super_plots(DF_sup, g, graph_name, n_mal, f_name):\n",
    "    fig1, ax = plt.subplots()\n",
    "    fig2, ax2 = plt.subplots()\n",
    "    fig3, ax3 = plt.subplots()\n",
    "    P = DF_sup.loc[:, 'Inf+Def Comm', :, graph_name, :]\n",
    "    n_nodes = g.get_size()\n",
    "    colors = [CB_color_cycle[2], CB_color_cycle[1]]\n",
    "    #markers = ['^', 'o', '^', 'o', '^', 'o']\n",
    "    att_names = ['RR+Laplace, Response', 'RR, Response']\n",
    "    for i in range(0, len(att_names)):\n",
    "        Q = P.loc[att_names[i]]\n",
    "        eps_list = Q.index.get_level_values(0)\n",
    "        assert eps_list.max() == eps_list.min()\n",
    "        eps = eps_list.max()\n",
    "        Q = Q.loc[eps, :]\n",
    "        x = Q.index.get_level_values(0)\n",
    "        y1 = (Q.loc[x]['Hon T Nan'] + Q.loc[x]['Rest Nan']) / (Q.loc[x]['Hon T Tot'] + Q.loc[x]['Rest Tot'])\n",
    "        y2 = Q.loc[x]['Hon T Max Error']\n",
    "        y3 = Q.loc[x]['Mal Max Error']\n",
    "        ax.scatter(x, y1, c = colors[i], marker='o')\n",
    "        ax2.scatter(x, y2, c=colors[i], marker='o')\n",
    "        ax3.scatter(x, y3, c=colors[i], marker='o')\n",
    "    ax3.set_xlabel(r'True Num. of Malicious Users $(m^{\\prime})$')\n",
    "    ax3.set_ylabel(r'Malicious Error $(\\alpha_2)$')\n",
    "    ax.set_xlabel(r'True Num. of Malicious Users $(m^{\\prime})$')\n",
    "    ax.set_ylabel(r'FPR')\n",
    "    ax2.set_xlabel(r'True Num. of Malicious Users $(m^{\\prime})$')\n",
    "    ax2.set_ylabel(r'Honest Error $(\\alpha_1)$')\n",
    "    ax.set_title(r'$m = %d, \\epsilon = %0.2f$' % (int(n_mal), eps))\n",
    "    fig1.savefig(f_name + '-fpr.pdf', bbox_inches='tight')\n",
    "    fig2.savefig(f_name + '-hon-error.pdf', bbox_inches='tight')\n",
    "    fig3.savefig(f_name + '-mal-error.pdf', bbox_inches='tight')"
   ]
  },
  {
   "cell_type": "code",
   "execution_count": 651,
   "id": "fe69aabd-dd64-4d08-ba2d-9efabdcd6f78",
   "metadata": {},
   "outputs": [
    {
     "data": {
      "image/png": "[encoded data removed]",
      "text/plain": [
       "<Figure size 400x400 with 1 Axes>"
      ]
     },
     "metadata": {},
     "output_type": "display_data"
    },
    {
     "data": {
      "image/png": "[encoded data removed]",
      "text/plain": [
       "<Figure size 400x400 with 1 Axes>"
      ]
     },
     "metadata": {},
     "output_type": "display_data"
    },
    {
     "data": {
      "image/png": "[encoded data removed]",
      "text/plain": [
       "<Figure size 400x400 with 1 Axes>"
      ]
     },
     "metadata": {},
     "output_type": "display_data"
    },
    {
     "data": {
      "image/png": "[encoded data removed]",
      "text/plain": [
       "<Figure size 400x400 with 1 Axes>"
      ]
     },
     "metadata": {},
     "output_type": "display_data"
    },
    {
     "data": {
      "image/png": "[encoded data removed]",
      "text/plain": [
       "<Figure size 400x400 with 1 Axes>"
      ]
     },
     "metadata": {},
     "output_type": "display_data"
    },
    {
     "data": {
      "image/png": "[encoded data removed]",
      "text/plain": [
       "<Figure size 400x400 with 1 Axes>"
      ]
     },
     "metadata": {},
     "output_type": "display_data"
    }
   ],
   "source": [
    "do_super_plots(DF_sup, g, 'FB', 40, path+'fb-super')\n",
    "do_super_plots(DF_sup, gnp, 'GNP', 40, path+'gnm-super')"
   ]
  },
  {
   "cell_type": "code",
   "execution_count": null,
   "id": "762b1cd6-8825-4dcb-a391-7ab5d350b717",
   "metadata": {},
   "outputs": [],
   "source": [
    "for i in range(0, len(att_names)):\n",
    "    Q = P.loc[att_names[i], :]\n",
    "    x = Q['Hon T Max Error']\n",
    "    y = Q['Mal Max Error']\n",
    "    nan = Q['Mal T Nan']\n",
    "    alphas = np.linspace(0.4, 1.0, len(x))\n",
    "    for j in range(0, len(x)):\n",
    "        ax.scatter(Q['Hon T Max Error'].iloc[j], Q['Mal Max Error'].iloc[j], c=colors[i], marker=markers[i], alpha = alphas[j])\n",
    "        if nan.iloc[j] > 0:\n",
    "            ax.scatter(Q['Hon T Max Error'].iloc[j], Q['Mal Max Error'].iloc[j], c='k', marker='x', zorder=5, s=50)\n",
    "\n",
    "#ax.plot((0, width), (height, height), color='#f781bf', linewidth=1.5)\n",
    "#ax.plot((width, width), (height, 0), color='#f781bf', linewidth=1.5)\n",
    "#ax.hlines(height, 0, 5*n_nodes, color='#f781bf', linestyle='dotted')\n",
    "#ax.vlines(width, 0, 5*n_nodes, color='#f781bf', linestyle='dotted')\n",
    "ax.set_xlabel(r'Honest Error $(\\alpha_1)$')\n",
    "ax.set_ylabel(r'Malicious Error $(\\alpha_2)$')\n",
    "ax.set_yscale('log')\n",
    "ax.set_ylim([100, 5*n_nodes])\n",
    "ax.set_xlim([10, 5*n_nodes])\n",
    "ax.set_xscale('log')\n",
    "ax.set_title(r'$m = \\{1\\%, 2\\%, \\ldots, 33\\%\\}, \\epsilon = 0.7$')\n",
    "#ax.annotate(r'$$d_{95}$$', (2.5*n_nodes, height * 1.2), fontsize=16)\n",
    "#ax.annotate(r'$$d_{95}-d_{80}$$', (1.2*width, 3.5*n_nodes), fontsize=16)\n",
    "plt.savefig(name, bbox_inches = \"tight\")\n",
    "#Add asymptote for naive."
   ]
  },
  {
   "cell_type": "markdown",
   "id": "b094c711-c541-4880-a07b-2c268061ee18",
   "metadata": {},
   "source": [
    "# Large community experiments"
   ]
  },
  {
   "cell_type": "code",
   "execution_count": 554,
   "id": "7006addf-8ec0-4e08-aeac-861c80feb8f6",
   "metadata": {},
   "outputs": [],
   "source": [
    "class weightedUF:\n",
    "    _id = []\n",
    "    _sz = []\n",
    "    _count = 0;\n",
    "\n",
    "    def __init__(self, N):\n",
    "        self._id = list(range(0,N))\n",
    "        self._count = N\n",
    "        self._sz = [1]*N\n",
    "        #print(self._sz)\n",
    "    \n",
    "    #Quick-union\n",
    "    def find(self, p):\n",
    "        while (self._id[p] != p):\n",
    "            p = self._id[p]\n",
    "        return p\n",
    "\n",
    "    def union(self, p, q):\n",
    "        self._rootP = self.find(p)\n",
    "        self._rootQ = self.find(q)\n",
    "\n",
    "        if (self._rootP == self._rootQ):\n",
    "            return 0\n",
    "\n",
    "        if (self._sz[self._rootP]<self._sz[self._rootQ]):\n",
    "            self._id[self._rootP] = self._rootQ\n",
    "            self._sz[self._rootQ] += self._sz[self._rootP]\n",
    "            sz = self._sz[self._rootQ]\n",
    "        else:\n",
    "            self._id[self._rootQ] = self._rootP\n",
    "            self._sz[self._rootP] += self._sz[self._rootQ]\n",
    "            sz = self._sz[self._rootP]\n",
    "\n",
    "        self._count = self._count-1\n",
    "        return sz\n",
    "    \n",
    "    def connected(self, p, q):\n",
    "        return self.find(p) == self.find(q)\n",
    "        \n",
    "    def count(self):\n",
    "        return self._count"
   ]
  },
  {
   "cell_type": "code",
   "execution_count": 583,
   "id": "16ccbcb0-72ae-486d-8eac-0428c93a2774",
   "metadata": {},
   "outputs": [],
   "source": [
    "def resp_adj_matrix(M, k, eps, resp_poi = False):\n",
    "    rho = 1 / (1 + np.exp(eps))\n",
    "    n = M.shape[0]\n",
    "    M_new = np.zeros((n+k, n+k), dtype=int)\n",
    "    M_new[:n, :n] = M\n",
    "    M_new[n:, n:] = 1\n",
    "    RR = np.random.choice([0,1], (n+k,n+k), p=[1-rho, rho])\n",
    "    M_new ^= RR\n",
    "    #for i in range(0, n+k):\n",
    "    #    M_new[i, i] = 0\n",
    "    #    M_new[i, i+1:] = M_new[i+1:, i]\n",
    "    if resp_poi:\n",
    "        M_new[n:, n:] = 1\n",
    "    return M_new\n",
    "#G_new = nx.Graph(M_new)"
   ]
  },
  {
   "cell_type": "code",
   "execution_count": 584,
   "id": "a6e212ad-f740-423e-82a9-22d298e73a66",
   "metadata": {},
   "outputs": [],
   "source": [
    "def uf_detect(inp, n, k):\n",
    "    uf = weightedUF(n+k)\n",
    "    idxs = sorted( [(inp[i,j], i,j) for i in range(0, n+k) for j in range(0, i)] )\n",
    "    i = len(idxs)-1\n",
    "    while True:\n",
    "        w, u, v = idxs[i]\n",
    "        sz = uf.union(u, v)\n",
    "        if sz >= k:\n",
    "            break\n",
    "        i -= 1\n",
    "    L = [uf.find(i) for i in range(n, n+k)]\n",
    "    return L"
   ]
  },
  {
   "cell_type": "code",
   "execution_count": 585,
   "id": "25e8cf63-be07-480e-bc51-392913116494",
   "metadata": {},
   "outputs": [],
   "source": [
    "def detect(M, k, eps, resp_poi):\n",
    "    n = M.shape[0]\n",
    "    M_new = resp_adj_matrix(M, k, eps, resp_poi)\n",
    "    sims = M_new @ M_new.T\n",
    "    for i in range(n):\n",
    "        sims[i,i] = 0\n",
    "    v = np.sqrt( sims.sum(axis=1) ).reshape((1, -1))\n",
    "    sims = sims / (v.T @ v)\n",
    "    #plt.matshow(sims)\n",
    "    L = uf_detect(sims, n, k)\n",
    "    return min(L) == max(L)"
   ]
  },
  {
   "cell_type": "code",
   "execution_count": 586,
   "id": "326c3ec6-1291-4513-bf4f-d71790245cae",
   "metadata": {},
   "outputs": [],
   "source": [
    "def bin_search_detect(M, i_min, i_max, eps, reps, resp_poi=False):\n",
    "    assert i_min < i_max\n",
    "    while(i_min+1 < i_max):\n",
    "        print(i_min, i_max)\n",
    "        mid = (i_min + i_max) // 2\n",
    "        always_detected = True\n",
    "        for j in range(reps):\n",
    "            always_detected = always_detected and detect(M, mid, eps, resp_poi)\n",
    "            if not always_detected:\n",
    "                break\n",
    "        if always_detected:\n",
    "            #mid is too high\n",
    "            i_max = mid\n",
    "        else:\n",
    "            i_min = mid\n",
    "    return i_min"
   ]
  },
  {
   "cell_type": "code",
   "execution_count": 567,
   "id": "4196bb42-c126-4f1d-be2e-fb500aabe7c4",
   "metadata": {},
   "outputs": [
    {
     "name": "stdout",
     "output_type": "stream",
     "text": [
      "12 512\n",
      "12 262\n",
      "12 137\n",
      "74 137\n",
      "105 137\n",
      "121 137\n",
      "121 129\n",
      "125 129\n",
      "125 127\n"
     ]
    },
    {
     "data": {
      "text/plain": [
       "126"
      ]
     },
     "execution_count": 567,
     "metadata": {},
     "output_type": "execute_result"
    }
   ],
   "source": [
    "bin_search_detect(g.get_adj_matrix(), 12, 512, 3.0, 4)"
   ]
  },
  {
   "cell_type": "code",
   "execution_count": 570,
   "id": "1329993e-7cc1-4323-8293-99c6ef24397a",
   "metadata": {},
   "outputs": [
    {
     "name": "stdout",
     "output_type": "stream",
     "text": [
      "12 1024\n",
      "518 1024\n",
      "518 771\n",
      "518 644\n",
      "518 581\n",
      "518 549\n",
      "533 549\n",
      "541 549\n",
      "545 549\n",
      "547 549\n"
     ]
    },
    {
     "data": {
      "text/plain": [
       "548"
      ]
     },
     "execution_count": 570,
     "metadata": {},
     "output_type": "execute_result"
    }
   ],
   "source": [
    "bin_search_detect(g.get_adj_matrix(), 12, 1024, 0.7, 4)"
   ]
  },
  {
   "cell_type": "code",
   "execution_count": 581,
   "id": "e558b744-aecb-4abe-8fa7-f2734228bdaa",
   "metadata": {},
   "outputs": [
    {
     "name": "stdout",
     "output_type": "stream",
     "text": [
      "1024 2048\n",
      "1536 2048\n",
      "1536 1792\n",
      "1536 1664\n",
      "1536 1600\n",
      "1536 1568\n",
      "1536 1552\n",
      "1544 1552\n",
      "1544 1548\n",
      "1544 1546\n"
     ]
    },
    {
     "data": {
      "text/plain": [
       "1544"
      ]
     },
     "execution_count": 581,
     "metadata": {},
     "output_type": "execute_result"
    }
   ],
   "source": [
    "bin_search_detect(gnp.get_adj_matrix(), 1024, 2048, 0.7, 4)"
   ]
  },
  {
   "cell_type": "code",
   "execution_count": 582,
   "id": "f9db212b-1c67-4860-9e74-af2cceefec2f",
   "metadata": {},
   "outputs": [
    {
     "name": "stdout",
     "output_type": "stream",
     "text": [
      "12 512\n",
      "12 262\n",
      "12 137\n",
      "74 137\n",
      "105 137\n",
      "105 121\n",
      "105 113\n",
      "109 113\n",
      "111 113\n"
     ]
    },
    {
     "data": {
      "text/plain": [
       "111"
      ]
     },
     "execution_count": 582,
     "metadata": {},
     "output_type": "execute_result"
    }
   ],
   "source": [
    "bin_search_detect(gnp.get_adj_matrix(), 12, 512, 3.0, 4)"
   ]
  },
  {
   "cell_type": "code",
   "execution_count": 587,
   "id": "c9b84e9f-22b4-406f-9139-fb956acbc5f8",
   "metadata": {},
   "outputs": [
    {
     "name": "stdout",
     "output_type": "stream",
     "text": [
      "12 512\n",
      "12 262\n",
      "12 137\n",
      "74 137\n",
      "105 137\n",
      "105 121\n",
      "105 113\n",
      "105 109\n",
      "105 107\n"
     ]
    },
    {
     "data": {
      "text/plain": [
       "106"
      ]
     },
     "execution_count": 587,
     "metadata": {},
     "output_type": "execute_result"
    }
   ],
   "source": [
    "bin_search_detect(g.get_adj_matrix(), 12, 512, 3.0, 4, True)"
   ]
  },
  {
   "cell_type": "code",
   "execution_count": 589,
   "id": "e9e1c9e2-4522-44cd-b4f8-0b4f3fd6e2a0",
   "metadata": {},
   "outputs": [
    {
     "name": "stdout",
     "output_type": "stream",
     "text": [
      "12 1024\n",
      "12 518\n",
      "12 265\n",
      "138 265\n",
      "138 201\n",
      "138 169\n",
      "153 169\n",
      "153 161\n",
      "153 157\n",
      "153 155\n"
     ]
    },
    {
     "data": {
      "text/plain": [
       "154"
      ]
     },
     "execution_count": 589,
     "metadata": {},
     "output_type": "execute_result"
    }
   ],
   "source": [
    "bin_search_detect(g.get_adj_matrix(), 12, 1024, 0.7, 4, True)"
   ]
  },
  {
   "cell_type": "code",
   "execution_count": 590,
   "id": "7a05ceb4-8e44-433d-ba7b-f82842073670",
   "metadata": {},
   "outputs": [
    {
     "name": "stdout",
     "output_type": "stream",
     "text": [
      "12 2048\n",
      "12 1030\n",
      "12 521\n",
      "266 521\n",
      "393 521\n",
      "393 457\n",
      "393 425\n",
      "409 425\n",
      "409 417\n",
      "413 417\n",
      "415 417\n"
     ]
    },
    {
     "data": {
      "text/plain": [
       "416"
      ]
     },
     "execution_count": 590,
     "metadata": {},
     "output_type": "execute_result"
    }
   ],
   "source": [
    "bin_search_detect(gnp.get_adj_matrix(), 12, 2048, 0.7, 4, True)"
   ]
  },
  {
   "cell_type": "code",
   "execution_count": 592,
   "id": "26f965a9-9d41-4e8a-bce5-95d7f6a49f5b",
   "metadata": {},
   "outputs": [
    {
     "name": "stdout",
     "output_type": "stream",
     "text": [
      "12 512\n",
      "12 262\n",
      "12 137\n",
      "74 137\n",
      "74 105\n",
      "89 105\n",
      "97 105\n",
      "97 101\n",
      "99 101\n"
     ]
    },
    {
     "data": {
      "text/plain": [
       "99"
      ]
     },
     "execution_count": 592,
     "metadata": {},
     "output_type": "execute_result"
    }
   ],
   "source": [
    "bin_search_detect(gnp.get_adj_matrix(), 12, 512, 3.0, 4, True)"
   ]
  },
  {
   "cell_type": "code",
   "execution_count": 474,
   "id": "31952680-7f26-4a21-a3fc-86748ce3acd0",
   "metadata": {},
   "outputs": [
    {
     "data": {
      "text/plain": [
       "np.float64(0.0011760152180607406)"
      ]
     },
     "execution_count": 474,
     "metadata": {},
     "output_type": "execute_result"
    }
   ],
   "source": [
    "max([sims[:n, :n].max(), sims[n:, :n].max(), sims[:n, n:].max()])"
   ]
  },
  {
   "cell_type": "code",
   "execution_count": 475,
   "id": "8e4778e1-8658-41d5-b204-94003eab89f4",
   "metadata": {},
   "outputs": [],
   "source": [
    "mini = sims[-1, -2]\n",
    "for i in range(n, n+k-1):\n",
    "    mini = min(mini, sims[i, i+1:].min())"
   ]
  },
  {
   "cell_type": "code",
   "execution_count": 476,
   "id": "3bba69a4-621b-4e6f-8e11-71abd6aeb86d",
   "metadata": {},
   "outputs": [
    {
     "data": {
      "text/plain": [
       "np.float64(0.0007763331770889842)"
      ]
     },
     "execution_count": 476,
     "metadata": {},
     "output_type": "execute_result"
    }
   ],
   "source": [
    "mini"
   ]
  },
  {
   "cell_type": "code",
   "execution_count": 477,
   "id": "924bdd87-b051-41cc-b74a-3e2c51dc141c",
   "metadata": {},
   "outputs": [
    {
     "data": {
      "text/plain": [
       "np.float64(0.0008233566432478827)"
      ]
     },
     "execution_count": 477,
     "metadata": {},
     "output_type": "execute_result"
    }
   ],
   "source": [
    "mst_weight(sims[n:, n:], k)"
   ]
  },
  {
   "cell_type": "code",
   "execution_count": 510,
   "id": "ef9202b0-26b9-42e8-9902-177a39dd01a0",
   "metadata": {},
   "outputs": [],
   "source": [
    "import heapq\n",
    "def mst_weight(inp, k):\n",
    "    H = [[0, k-1, k-1]]\n",
    "    min_weight = 0\n",
    "    visited = [0] * k\n",
    "    cluster_ids = list(range(k))\n",
    "    while len(H) > 0:\n",
    "        w, v, c = heapq.heappop(H)\n",
    "        if not visited[v]:\n",
    "            visited[v] = 1\n",
    "            min_weight = min(min_weight, w)\n",
    "            for i in range(0, k):\n",
    "                if not i == v:\n",
    "                    heapq.heappush(H, [-inp[i, v], i])\n",
    "    return -min_weight"
   ]
  },
  {
   "cell_type": "code",
   "execution_count": 504,
   "id": "1cf3bc08-4c7c-4900-9c17-3e4e24ceb74a",
   "metadata": {},
   "outputs": [],
   "source": []
  },
  {
   "cell_type": "code",
   "execution_count": 507,
   "id": "6b66fbe4-5135-4d11-8b26-3a708868da1c",
   "metadata": {},
   "outputs": [],
   "source": []
  },
  {
   "cell_type": "code",
   "execution_count": null,
   "id": "9cca1cb5-1043-46b5-949d-4f0259f3b9ac",
   "metadata": {},
   "outputs": [],
   "source": []
  }
 ],
 "metadata": {
  "kernelspec": {
   "display_name": "Python 3 (ipykernel)",
   "language": "python",
   "name": "python3"
  },
  "language_info": {
   "codemirror_mode": {
    "name": "ipython",
    "version": 3
   },
   "file_extension": ".py",
   "mimetype": "text/x-python",
   "name": "python",
   "nbconvert_exporter": "python",
   "pygments_lexer": "ipython3",
   "version": "3.13.2"
  }
 },
 "nbformat": 4,
 "nbformat_minor": 5
}
